{
  "nbformat": 4,
  "nbformat_minor": 0,
  "metadata": {
    "colab": {
      "name": "Handwriting Recognition using DNN.ipynb",
      "provenance": []
    },
    "kernelspec": {
      "name": "python3",
      "display_name": "Python 3"
    },
    "language_info": {
      "name": "python"
    }
  },
  "cells": [
    {
      "cell_type": "markdown",
      "metadata": {
        "id": "sP5wBRSszn0A"
      },
      "source": [
        "# **Deep Neural Network with Keras for MNIST handwritten classification and recognition**"
      ]
    },
    {
      "cell_type": "markdown",
      "metadata": {
        "id": "IwYGyLo7zxtA"
      },
      "source": [
        "\n",
        "# **Section O : Things to Know**\n",
        "\n",
        "Understand how to call in or import Keras-Based mathematical layers into your colab environment\n",
        "\n",
        "Spend time on how a neural network is built and the logic to implement efficient and Optimal Training\n",
        " \n",
        "Networks for image classification\n",
        "Explore the official documentation about the MNIST Dataset"
      ]
    },
    {
      "cell_type": "code",
      "metadata": {
        "colab": {
          "base_uri": "https://localhost:8080/",
          "height": 321
        },
        "id": "3geLZdCF8L1x",
        "outputId": "c30be274-6674-43ac-ad54-6e32b7528ccc"
      },
      "source": [
        "### Imports ###\n",
        "\n",
        "### Keras includes the mnist dataset ###\n",
        "from keras.datasets import mnist \n",
        "from keras.utils import to_categorical\n",
        "\n",
        "\n",
        "### To some example from the mnist dataset let's use maatplotlib and plot the images and other utilities ###\n",
        "from matplotlib import pyplot \n",
        "import numpy as np\n",
        "import seaborn as sns\n",
        "from sklearn.model_selection import KFold\n",
        "import sys\n",
        "from numpy import mean\n",
        "from numpy import std\n",
        "\n",
        "### Keras Libraries \n",
        "from keras.models import Sequential\n",
        "from keras.layers import Conv2D\n",
        "from keras.layers import MaxPooling2D\n",
        "from keras.layers import Dense\n",
        "from keras.layers import Flatten\n",
        "from keras.optimizers import SGD\n",
        "from keras.layers import BatchNormalization\n",
        "\n",
        "\n",
        "### Now, let us create the train and test sets - for X (The images themselves) and y (The classification label) ###\n",
        "(trainsetX, trainsety),(testsetX,testsety) = mnist.load_data()\n",
        "\n",
        "### Let's take sneak peak about the count of the images in the set and the resolution of the images ###\n",
        "print('Train: X = {}, y = {}'.format(trainsetX.shape, trainsety.shape)) ### The train set ###\n",
        "print('Test: X = {}, y = {}'.format(testsetX.shape, testsety.shape))\n",
        "\n",
        "### A for loop to plot and see one each of numbers ###\n",
        "for image in range(9):\n",
        "  pyplot.subplot(330 + 1 + image)\n",
        "  pyplot.imshow( trainsetX[image])\n",
        "pyplot.show"
      ],
      "execution_count": null,
      "outputs": [
        {
          "output_type": "stream",
          "text": [
            "Train: X = (60000, 28, 28), y = (60000,)\n",
            "Test: X = (10000, 28, 28), y = (10000,)\n"
          ],
          "name": "stdout"
        },
        {
          "output_type": "execute_result",
          "data": {
            "text/plain": [
              "<function matplotlib.pyplot.show>"
            ]
          },
          "metadata": {
            "tags": []
          },
          "execution_count": 1
        },
        {
          "output_type": "display_data",
          "data": {
            "image/png": "[encoded data removed]",
            "text/plain": [
              "<Figure size 432x288 with 9 Axes>"
            ]
          },
          "metadata": {
            "tags": [],
            "needs_background": "light"
          }
        }
      ]
    },
    {
      "cell_type": "markdown",
      "metadata": {
        "id": "iSIa2WEu1YpH"
      },
      "source": [
        "# **Section I.I : Initial Data Indagation**\n",
        "Start off by understanding what MNIST Data is in more detail\n",
        "\n",
        "Note down the dimensions and other practical information about the MNIST dataset\n",
        "\n",
        "Load in the dataset into your Colab Environment [Using Keras Datasets]"
      ]
    },
    {
      "cell_type": "code",
      "metadata": {
        "id": "QaMyXYqyhlD9"
      },
      "source": [
        "import matplotlib.pyplot as plt\n",
        "%matplotlib inline"
      ],
      "execution_count": null,
      "outputs": []
    },
    {
      "cell_type": "markdown",
      "metadata": {
        "id": "UsudEEhr1g2e"
      },
      "source": [
        "# **Section I.II : Initial EDA**\n",
        "Explore the datasets descriptive statistics if needed\n",
        "\n",
        "Create graphs of the counts of each class\n",
        "\n",
        "Make deductions upon the class distribution"
      ]
    },
    {
      "cell_type": "code",
      "metadata": {
        "colab": {
          "base_uri": "https://localhost:8080/"
        },
        "id": "14s5Gq2m8WcW",
        "outputId": "67c6b2d0-5897-4b7b-d396-1539557342c9"
      },
      "source": [
        "### Let's start with the datatype of the dataset ###\n",
        "\n",
        "print( \" Data Type of Images: \" , trainsetX.dtype )\n",
        "print( \" Data Type of Labels: \" , trainsety.dtype )\n",
        "\n",
        "### The dataset is consistently uint8"
      ],
      "execution_count": null,
      "outputs": [
        {
          "output_type": "stream",
          "text": [
            " Data Type of Images:  uint8\n",
            " Data Type of Labels:  uint8\n"
          ],
          "name": "stdout"
        }
      ]
    },
    {
      "cell_type": "code",
      "metadata": {
        "colab": {
          "base_uri": "https://localhost:8080/",
          "height": 281
        },
        "id": "LMTtPjRv2QAw",
        "outputId": "73e8231d-7936-41df-96cc-d639e426fdec"
      },
      "source": [
        "from matplotlib import pyplot \n",
        "figure , axis = pyplot.subplots()\n",
        "axis.hist(trainsety , bins = range(11))\n",
        "axis.set_xticks( range(10))\n",
        "axis.set_title(\" Training Set Class Distribution [fig.1]\")\n",
        "\n",
        "figure.show()"
      ],
      "execution_count": null,
      "outputs": [
        {
          "output_type": "display_data",
          "data": {
            "image/png": "[encoded data removed]",
            "text/plain": [
              "<Figure size 432x288 with 1 Axes>"
            ]
          },
          "metadata": {
            "tags": [],
            "needs_background": "light"
          }
        }
      ]
    },
    {
      "cell_type": "code",
      "metadata": {
        "colab": {
          "base_uri": "https://localhost:8080/",
          "height": 340
        },
        "id": "0uv9xEHT2ks-",
        "outputId": "8127bf63-f867-47c2-fb16-fc231f59b15f"
      },
      "source": [
        "sns.countplot(trainsety)"
      ],
      "execution_count": null,
      "outputs": [
        {
          "output_type": "stream",
          "text": [
            "/usr/local/lib/python3.7/dist-packages/seaborn/_decorators.py:43: FutureWarning: Pass the following variable as a keyword arg: x. From version 0.12, the only valid positional argument will be `data`, and passing other arguments without an explicit keyword will result in an error or misinterpretation.\n",
            "  FutureWarning\n"
          ],
          "name": "stderr"
        },
        {
          "output_type": "execute_result",
          "data": {
            "text/plain": [
              "<matplotlib.axes._subplots.AxesSubplot at 0x7fcd692b3d50>"
            ]
          },
          "metadata": {
            "tags": []
          },
          "execution_count": 5
        },
        {
          "output_type": "display_data",
          "data": {
            "image/png": "[encoded data removed]",
            "text/plain": [
              "<Figure size 432x288 with 1 Axes>"
            ]
          },
          "metadata": {
            "tags": [],
            "needs_background": "light"
          }
        }
      ]
    },
    {
      "cell_type": "code",
      "metadata": {
        "id": "waAPiX2U8mqO"
      },
      "source": [
        "### Loading the Dataset ###\n",
        "\n",
        "( trainX , trainy ),( testX , testy )= mnist.load_data()\n",
        "\n",
        "### Reshaping the dataset to contain single colour ###\n",
        "\n",
        "trainX = trainX.reshape((trainX.shape[0] , 28 , 28 , 1 ))  ### Similarly , \n",
        "testX = testX.reshape((testX.shape[0], 28 , 28 , 1 ))\n"
      ],
      "execution_count": null,
      "outputs": []
    },
    {
      "cell_type": "code",
      "metadata": {
        "id": "BqyDb9Bg8pyV"
      },
      "source": [
        "### One-Hot encoding target values ###\n",
        "\n",
        "trainy = to_categorical( trainy )\n",
        "testy = to_categorical( testy )"
      ],
      "execution_count": null,
      "outputs": []
    },
    {
      "cell_type": "code",
      "metadata": {
        "id": "NM9KmjeZ4RTW"
      },
      "source": [
        "def load_dataset():\n",
        "\n",
        "  ( X_train , y_train), ( X_test , y_test) = mnist.load_data()\n",
        "\n",
        "  trainX = trainX.reshape(( trainX.shape[0] , 28 , 28 , 1 ))\n",
        "  testX = testX.reshape((testX.shape[0] , 28 , 28 , 1 ))\n",
        "\n",
        "  trainy = to_categorical(trainy)\n",
        "  testy = to_categorical(testy)\n",
        "\n",
        "  return trainX, trainy, testX, testy"
      ],
      "execution_count": null,
      "outputs": []
    },
    {
      "cell_type": "markdown",
      "metadata": {
        "id": "DJgxA4wg4lFu"
      },
      "source": [
        "# **Section II : Data Preparation**\n",
        "Normalize the pixel value of the all images\n",
        "\n",
        "Why is scaling of the pixel value required ? Make a note\n",
        "Explain the difference between pre-processed images and the normalized images"
      ]
    },
    {
      "cell_type": "code",
      "metadata": {
        "id": "m_3rpdYG4r7m"
      },
      "source": [
        "def normalization(train, test):\n",
        "\n",
        "\t# Converstion from integers to floats data type\n",
        "\ttrain_norma = train.astype('float32')\n",
        "\ttest_norma = test.astype('float32')\n",
        " \n",
        "\t# Normalize to range 0-1\n",
        "\ttrain_norma = train_norma / 255.0\n",
        "\ttest_norma = test_norma / 255.0\n",
        "\n",
        "\t# Return the normalized images\n",
        "\treturn train_norma, test_norma"
      ],
      "execution_count": null,
      "outputs": []
    },
    {
      "cell_type": "markdown",
      "metadata": {
        "id": "KJTcYCmn5as-"
      },
      "source": [
        "# **Section III : Model Construction**\n",
        "What sort of Neural Network would you employ for this problem statement ?\n",
        "\n",
        "Write down the skeleton flow of the model\n",
        "\n",
        "Create a baseline model\n",
        "Train the model"
      ]
    },
    {
      "cell_type": "code",
      "metadata": {
        "id": "6hbxsQMW5eWu"
      },
      "source": [
        "### CNN Baseline Model ### \n",
        "\n",
        "def define_baseline_model():\n",
        "\n",
        "  model = Sequential()\n",
        "  model.add(Conv2D( 32 , ( 3 , 3 ) , activation = 'relu' , kernel_initializer = 'he_uniform' , input_shape = ( 28 , 28 , 1)))\n",
        "  model.add(MaxPooling2D(( 2 , 2 )))\n",
        "  model.add(Flatten())\n",
        "  model.add(Dense( 100 , activation='relu' , kernel_initializer='he_uniform' ))\n",
        "  model.add(Dense( 10 , activation='softmax' ))\n",
        "\n",
        "  ### Perform Compilation of the model ###\n",
        "  opt = SGD( lr=0.01 , momentum=0.9 )\n",
        "  model.compile( optimizer=opt , loss='categorical_crossentropy' , metrics=['accuracy'] )\n",
        "\n",
        "  ### Return the model ###\n",
        "  return model"
      ],
      "execution_count": null,
      "outputs": []
    },
    {
      "cell_type": "markdown",
      "metadata": {
        "id": "QlaAY2I050jO"
      },
      "source": [
        "# **Section IV : Model Evaluation**\n",
        "It is recommeded to to use Kfolds to evaluate your model, what other validation process could you employ ?\n",
        "\n",
        "What would be the best value for K and why for this baseline model\n",
        "\n",
        "Evaluate the model accordingly and make a note of it's performance with respect to it's accuracy"
      ]
    },
    {
      "cell_type": "code",
      "metadata": {
        "id": "apMUFFH45_3-"
      },
      "source": [
        "### Model Evaluation function ###\n",
        "\n",
        "def model_evaluator(datasetX,datasety , n_folds = 5 ):\n",
        "  scores , histories = list() , list()\n",
        "\n",
        "  ### Cross Validation Block ###\n",
        "  kfold = KFold( n_folds , shuffle = True , random_state = 1 )\n",
        "\n",
        "  ### Performing the Dataset Splits ###\n",
        "  for trainset_ix,testset_ix in kfold.split(datasetX,datasety):\n",
        "\n",
        "    ### Model Defination\n",
        "    model = define_baseline_model()\n",
        "\n",
        "    ### Selecting appropriate rows for trainset and testset\n",
        "    trainsetX , trainsety  = datasetX[trainset_ix] , datasety[trainset_ix] \n",
        "    testsetX , testsety = datasetX[testset_ix] , datasety[testset_ix] \n",
        "\n",
        "    ### Model training or fitting ###\n",
        "    history = model.fit(trainsetX , trainsety , epochs = 10 , batch_size = 32 , validation_data = (testsetX , testsety), verbose = 1)\n",
        "\n",
        "    ### Model Evaluation ###\n",
        "    _ , accuracy = model.evaluate(testsetX , testsety , verbose=1)\n",
        "    print(\"Model evalutation accuracy : {}%\".format(accuracy * 100.0))\n",
        "\n",
        "    ### Log the Scores ###\n",
        "    scores.append(accuracy)\n",
        "    histories.append(history)\n",
        "\n",
        "  return scores , histories"
      ],
      "execution_count": null,
      "outputs": []
    },
    {
      "cell_type": "markdown",
      "metadata": {
        "id": "01-suXBQ6IB2"
      },
      "source": [
        "# **Section V : Model Evaluation Metrics**\n",
        "Create Graphical plots of the model performance on the train and test set during individual folds\n",
        "\n",
        "Is your model overfitting , underfitting or has the optimum fit ? Provide reasoning\n",
        "\n",
        "Get the loss and validation loss of the model and also the accuracy and the validation accuracy\n",
        "\n",
        "What are your inferences about the model performance ? Can you summarize your observations ?"
      ]
    },
    {
      "cell_type": "code",
      "metadata": {
        "id": "8Vd9f6M36PuW"
      },
      "source": [
        "### Diagnostics Function ###\n",
        "def diagnostics(histories):\n",
        "\n",
        "  for i in range(len(histories)):\n",
        "\n",
        "    ### Graphical Visualization of Loss ###\n",
        "    pyplot.subplot( 2 , 1 , 1 )\n",
        "    pyplot.title(\"The Cross Entropy Losses\")\n",
        "    pyplot.plot( histories[i].history['loss'] , color='blue', label='train')\n",
        "    pyplot.plot(histories[i].history['val_loss'], color='orange', label='test')\n",
        "\n",
        "    ### Graphical Visualization of the Accuracies ###\n",
        "    pyplot.subplot( 2 , 1 , 2 )\n",
        "    pyplot.title(\"Classification Accuracy\")\n",
        "    pyplot.plot(histories[i].history['accuracy'], color='blue', label='train')\n",
        "    pyplot.plot(histories[i].history['val_accuracy'], color='orange', label='test')\n"
      ],
      "execution_count": null,
      "outputs": []
    },
    {
      "cell_type": "code",
      "metadata": {
        "id": "sGX2i3nF6dCn"
      },
      "source": [
        "### Summarized Model Performance ### \n",
        "\n",
        "def performance_summarizer(scores):\n",
        "\n",
        "  ### Show the summary ###\n",
        "  print(\"Accuracy : mean = {} || Standard Deviation = {} || n = {}\".format(mean((scores)*100) , std((scores)*100) , len(scores)))\n",
        "\n",
        "  ### Box and whisker plots of the output result ###\n",
        "  pyplot.boxplot(scores)\n",
        "  pyplot.show()"
      ],
      "execution_count": null,
      "outputs": []
    },
    {
      "cell_type": "code",
      "metadata": {
        "id": "54sh9p_Q60Bm"
      },
      "source": [
        "def driver_harness():\n",
        "\n",
        "  ### Loading the dataset ###\n",
        "  trainsetX , trainsety , testsetX , testsety = load_dataset()\n",
        "\n",
        "  ### Normalizing the pixel values of the hadwritten images ###\n",
        "  trainsetX , testsetX = normalization(trainsetX,testsetX)\n",
        "\n",
        "  ### Model Evaluation ###\n",
        "  scores, histories = model_evaluator(trainsetX, trainsety)\n",
        "\n",
        "  ### Visualizations of the diagnostics ###\n",
        "  diagnostics(histories)\n",
        "\n",
        "  ### Visual of the estimation performances ###\n",
        "  performance_summarizer(scores)"
      ],
      "execution_count": null,
      "outputs": []
    },
    {
      "cell_type": "code",
      "metadata": {
        "id": "JVwellbT68kQ"
      },
      "source": [
        "def BN_model():\n",
        "\n",
        "  model = Sequential()\n",
        "  model.add(Conv2D(32, (3, 3), activation='relu', kernel_initializer='he_uniform', input_shape=(28, 28, 1)))\n",
        "  model.add(BatchNormalization())\n",
        "  model.add(MaxPooling2D((2, 2)))\n",
        "  model.add(Flatten())\n",
        "  model.add(Dense(100, activation='relu', kernel_initializer='he_uniform'))\n",
        "  model.add(BatchNormalization())\n",
        "  model.add(Dense(10, activation='softmax'))\n",
        " \n",
        "  ### Model Compilation ###\n",
        "  opt = SGD(lr=0.01, momentum=0.9)\n",
        "  model.compile(optimizer=opt, loss='categorical_crossentropy', metrics=['accuracy'])\n",
        "  return model"
      ],
      "execution_count": null,
      "outputs": []
    },
    {
      "cell_type": "code",
      "metadata": {
        "id": "yoma-74R7CM4"
      },
      "source": [
        "### BN Model Evaluation function ###\n",
        "\n",
        "def BN_model_evaluator(datasetX,datasety , n_folds = 5 ):\n",
        "  scores , histories = list() , list()\n",
        "\n",
        "  ### Cross Validation Block ###\n",
        "  kfold = KFold( n_folds , shuffle = True , random_state = 1 )\n",
        "\n",
        "  ### Performing the Dataset Splits ###\n",
        "  for trainset_ix,testset_ix in kfold.split(datasetX,datasety):\n",
        "\n",
        "    ### Model Defination\n",
        "    model = BN_model()\n",
        "\n",
        "    ### Selecting appropriate rows for trainset and testset\n",
        "    trainsetX , trainsety  = datasetX[trainset_ix] , datasety[trainset_ix] \n",
        "    testsetX , testsety = datasetX[testset_ix] , datasety[testset_ix] \n",
        "\n",
        "    ### Model training or fitting ###\n",
        "    history = model.fit(trainsetX , trainsety , epochs = 10 , batch_size = 32 , validation_data = (testsetX , testsety), verbose = 1)\n",
        "\n",
        "    ### Model Evaluation ###\n",
        "    _ , accuracy = model.evaluate(testsetX , testsety , verbose=1)\n",
        "    print(\"Model evalutation accuracy : {}%\".format(accuracy * 100.0))\n",
        "\n",
        "    ### Log the Scores ###\n",
        "    scores.append(accuracy)\n",
        "    histories.append(history)\n",
        "\n",
        "  return scores , histories"
      ],
      "execution_count": null,
      "outputs": []
    },
    {
      "cell_type": "markdown",
      "metadata": {
        "id": "m63Q1RhF7HBK"
      },
      "source": [
        "# **Section VI : Improving your models**\n",
        "What are some ways you can improve the performance of of your baseline model ?\n",
        "\n",
        "Change some hyperparameters and observe the performance\n",
        "\n",
        "Make note in the difference in performance between the baseline model and your improved model"
      ]
    },
    {
      "cell_type": "code",
      "metadata": {
        "id": "cQ_dYAH57NK-"
      },
      "source": [
        "def BN_improv_driver_harness():\n",
        "\n",
        "  ### Loading the dataset ###\n",
        "  trainsetX , trainsety , testsetX , testsety = load_dataset()\n",
        "\n",
        "  ### Normalizing the pixel values of the hadwritten images ###\n",
        "  trainsetX , testsetX = normalization(trainsetX,testsetX)\n",
        "\n",
        "  ### Model Evaluation ###\n",
        "  scores, histories = BN_model_evaluator(trainsetX, trainsety)\n",
        "\n",
        "  ### Visualizations of the diagnostics ###\n",
        "  diagnostics(histories)\n",
        "\n",
        "  ### Visual of the estimation performances ###\n",
        "  performance_summarizer(scores)"
      ],
      "execution_count": null,
      "outputs": []
    },
    {
      "cell_type": "code",
      "metadata": {
        "id": "1g1Qf8kA7TJQ"
      },
      "source": [
        "BN_improv_driver_harness()"
      ],
      "execution_count": null,
      "outputs": []
    },
    {
      "cell_type": "markdown",
      "metadata": {
        "id": "fMGyhwPD7YM9"
      },
      "source": [
        "# **Section VII : Improve the depth**\n",
        "Add more convolutional layers to your baseline model\n",
        "\n",
        "Increase the filter size of the conv layer as well\n",
        "\n",
        "Add the pooling layers suitably\n",
        "\n",
        "Compare the performance of the model with the baseline model\n",
        "\n",
        "How much did the model improve?\n",
        "\n",
        "What are the merits and demerits of increasing the depth of the model ?\n",
        "Save the final model"
      ]
    },
    {
      "cell_type": "code",
      "metadata": {
        "id": "NY_V81597VWd"
      },
      "source": [
        "### Increased Depth of CNN ### \n",
        "\n",
        "def debth_increased_model():\n",
        "\n",
        "  model = Sequential()\n",
        "  model.add(Conv2D(32, (3, 3), activation='relu', kernel_initializer='he_uniform', input_shape=(28, 28, 1)))\n",
        "  model.add(MaxPooling2D((2, 2)))\n",
        "  model.add(Conv2D(64, (3, 3), activation='relu', kernel_initializer='he_uniform'))\n",
        "  model.add(Conv2D(64, (3, 3), activation='relu', kernel_initializer='he_uniform'))\n",
        "  model.add(MaxPooling2D((2, 2)))\n",
        "  model.add(Flatten())\n",
        "  model.add(Dense(100, activation='relu', kernel_initializer='he_uniform'))\n",
        "  model.add(Dense(10, activation='softmax'))\n",
        " \n",
        "  ### Model Compilation ###\n",
        "  opt = SGD(lr=0.01, momentum=0.9)\n",
        "  model.compile(optimizer=opt, loss='categorical_crossentropy', metrics=['accuracy'])\n",
        "  return model"
      ],
      "execution_count": null,
      "outputs": []
    },
    {
      "cell_type": "code",
      "metadata": {
        "id": "pXElE5JE7r9-"
      },
      "source": [
        "def deeper_cnn_model_evaluator(datasetX,datasety , n_folds = 5 ):\n",
        "  scores , histories = list() , list()\n",
        "\n",
        "  ### Cross Validation Block ###\n",
        "  kfold = KFold( n_folds , shuffle = True , random_state = 1 )\n",
        "\n",
        "  ### Performing the Dataset Splits ###\n",
        "  for trainset_ix,testset_ix in kfold.split(datasetX,datasety):\n",
        "\n",
        "    ### Model Defination\n",
        "    model = debth_increased_model()\n",
        "\n",
        "    ### Selecting appropriate rows for trainset and testset\n",
        "    trainsetX , trainsety  = datasetX[trainset_ix] , datasety[trainset_ix] \n",
        "    testsetX , testsety = datasetX[testset_ix] , datasety[testset_ix] \n",
        "\n",
        "    ### Model training or fitting ###\n",
        "    history = model.fit(trainsetX , trainsety , epochs = 10 , batch_size = 32 , validation_data = (testsetX , testsety), verbose = 1)\n",
        "\n",
        "    ### Model Evaluation ###\n",
        "    _ , accuracy = model.evaluate(testsetX , testsety , verbose=1)\n",
        "    print(\"Model evalutation accuracy : {}%\".format(accuracy * 100.0))\n",
        "\n",
        "    ### Log the Scores ###\n",
        "    scores.append(accuracy)\n",
        "    histories.append(history)\n",
        "\n",
        "  return scores , histories"
      ],
      "execution_count": null,
      "outputs": []
    },
    {
      "cell_type": "code",
      "metadata": {
        "id": "fcQQ7wmD7u52"
      },
      "source": [
        "def deeper_cnn_improv_driver_harness():\n",
        "\n",
        "  ### Loading the dataset ###\n",
        "  trainsetX , trainsety , testsetX , testsety = load_dataset()\n",
        "\n",
        "  ### Normalizing the pixel values of the hadwritten images ###\n",
        "  trainsetX , testsetX = normalization(trainsetX,testsetX)\n",
        "\n",
        "  ### Model Evaluation ###\n",
        "  scores, histories = deeper_cnn_model_evaluator(trainsetX, trainsety)\n",
        "\n",
        "  ### Visualizations of the diagnostics ###\n",
        "  diagnostics(histories)\n",
        "\n",
        "  ### Visual of the estimation performances ###\n",
        "  performance_summarizer(scores)"
      ],
      "execution_count": null,
      "outputs": []
    },
    {
      "cell_type": "code",
      "metadata": {
        "id": "vi-N8pq97ysQ"
      },
      "source": [
        "deeper_cnn_improv_driver_harness()\n"
      ],
      "execution_count": null,
      "outputs": []
    },
    {
      "cell_type": "code",
      "metadata": {
        "id": "zKnocfPC7zqo"
      },
      "source": [
        "def saving_deeper_cnn_improv_driver_harness():\n",
        "\n",
        "  ### Loading the dataset ###\n",
        "  trainsetX , trainsety , testsetX , testsety = load_dataset()\n",
        "\n",
        "  ### Normalizing the pixel values of the hadwritten images ###\n",
        "  trainsetX , testsetX = normalization(trainsetX,testsetX)\n",
        "\n",
        "  ### Creating a model for training purposes ###\n",
        "\n",
        "  model = debth_increased_model()\n",
        "\n",
        "  ### Training the initiatilized model ###\n",
        "\n",
        "  model.fit(trainsetX, trainsety, epochs=10, batch_size=32, verbose=1)\n",
        " \n",
        "  ### Saving the trained model as h5 ###\n",
        "\n",
        "  model.save('deeper_cnn_model.h5')"
      ],
      "execution_count": null,
      "outputs": []
    },
    {
      "cell_type": "code",
      "metadata": {
        "id": "WdEOIdc273PN"
      },
      "source": [
        "from keras.datasets import mnist\n",
        "from keras.models import load_model\n",
        "from keras.utils import to_categorical\n",
        "\n",
        "def final_model_driver_harness():\n",
        "\n",
        "  ### Loading the dataset ###\n",
        "  trainsetX , trainsety , testsetX , testsety = load_dataset()\n",
        "\n",
        "  ### Normalizing the pixel values of the hadwritten images ###\n",
        "  trainsetX , testsetX = normalization(trainsetX,testsetX)\n",
        "\n",
        "  ### Load the final trained deeper model ###\n",
        "\n",
        "  model = load_model('deeper_cnn_model.h5')\n",
        "\n",
        "  ### Evaluation of the model on the test dataset ###\n",
        "\n",
        "  _,accuracy, = model.evaluate(testsetX,testsety , verbose=1)\n",
        "  print(\"Final Model Evaluation : {}\".format(accuracy * 100.0))"
      ],
      "execution_count": null,
      "outputs": []
    },
    {
      "cell_type": "code",
      "metadata": {
        "id": "WFFY339875td"
      },
      "source": [
        "def load_image(filename):\n",
        "\t### Load the image ###\n",
        "\timg = load_img(filename, color_mode = \"grayscale\", target_size=(28, 28))\n",
        " \n",
        "\t### Convert to array ###\n",
        "\timg = img_to_array(img)\n",
        " \n",
        "\t### Reshape into a single sample with 1 channel ###\n",
        "\timg = img.reshape(1, 28, 28, 1)\n",
        " \n",
        "\t### Prepare pixel data ###\n",
        "  \n",
        "\timg = img.astype('float32')\n",
        "\timg = img / 255.0\n",
        "\treturn img"
      ],
      "execution_count": null,
      "outputs": []
    },
    {
      "cell_type": "code",
      "metadata": {
        "id": "WOpQXGYX78N9"
      },
      "source": [
        "import os\n",
        "from IPython.display import display, Image\n",
        "\n",
        "url1 = 'https://user-images.githubusercontent.com/67789350/103252212-d78f7f00-49a1-11eb-84de-98003d0fb79a.png'\n",
        "os.system('wget {}'.format(url1))\n",
        "os.rename('103252212-d78f7f00-49a1-11eb-84de-98003d0fb79a.png','sample_mnist_digit_7.png') \n",
        "\n",
        "display(Image(filename='sample_mnist_digit_7.png'))\n"
      ],
      "execution_count": null,
      "outputs": []
    },
    {
      "cell_type": "code",
      "metadata": {
        "id": "Z3wzllYQ7_tN"
      },
      "source": [
        "import random \n",
        "from keras.preprocessing.image import load_img\n",
        "from keras.preprocessing.image import img_to_array\n",
        "from keras.models import load_model\n",
        "import warnings\n",
        "warnings.filterwarnings('ignore')\n",
        "\n",
        "def prediction_driver_harness():\n",
        "\n",
        "\t# load the image\n",
        "\timg = load_image(\"sample_mnist_digit_7.png\")\n",
        " \n",
        "\t# load model\n",
        "\n",
        "\tmodel = load_model('deeper_cnn_model.h5')\n",
        " \n",
        "\t# predict the class\n",
        "\tdigit = model.predict_classes(img)\n",
        "\tprint(\"Predicted Image from our Final model : {}\".format(digit[0]))"
      ],
      "execution_count": null,
      "outputs": []
    }
  ]
}