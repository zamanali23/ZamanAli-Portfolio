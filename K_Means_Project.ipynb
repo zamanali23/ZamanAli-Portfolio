{
  "nbformat": 4,
  "nbformat_minor": 0,
  "metadata": {
    "colab": {
      "name": "Changed_K_Means_Project__2.ipynb",
      "provenance": []
    },
    "kernelspec": {
      "display_name": "Python 3",
      "name": "python3"
    }
  },
  "cells": [
    {
      "cell_type": "code",
      "metadata": {
        "id": "R5xE0L54jxbq"
      },
      "source": [
        "import pandas as pd\n",
        "import numpy as np\n",
        "\n",
        "import warnings\n",
        "warnings.filterwarnings('ignore')\n",
        "\n",
        "import seaborn as sns\n",
        "import matplotlib.pyplot as plt\n",
        "%matplotlib inline\n",
        "sns.set(style='white', color_codes=True)"
      ],
      "execution_count": null,
      "outputs": []
    },
    {
      "cell_type": "code",
      "metadata": {
        "id": "JE8YmDkD4lR6",
        "colab": {
          "base_uri": "https://localhost:8080/",
          "height": 420
        },
        "outputId": "55fc0390-d87e-4441-954d-1615624c6e9c"
      },
      "source": [
        "df=pd.read_csv('/train.csv/')"
      ],
      "execution_count": null,
      "outputs": [
        {
          "output_type": "error",
          "ename": "FileNotFoundError",
          "evalue": "ignored",
          "traceback": [
            "\u001b[0;31m---------------------------------------------------------------------------\u001b[0m",
            "\u001b[0;31mFileNotFoundError\u001b[0m                         Traceback (most recent call last)",
            "\u001b[0;32m<ipython-input-43-dd7180a199b3>\u001b[0m in \u001b[0;36m<module>\u001b[0;34m()\u001b[0m\n\u001b[0;32m----> 1\u001b[0;31m \u001b[0mdf\u001b[0m\u001b[0;34m=\u001b[0m\u001b[0mpd\u001b[0m\u001b[0;34m.\u001b[0m\u001b[0mread_csv\u001b[0m\u001b[0;34m(\u001b[0m\u001b[0;34m'/train.csv/'\u001b[0m\u001b[0;34m)\u001b[0m\u001b[0;34m\u001b[0m\u001b[0;34m\u001b[0m\u001b[0m\n\u001b[0m",
            "\u001b[0;32m/usr/local/lib/python3.7/dist-packages/pandas/io/parsers.py\u001b[0m in \u001b[0;36mread_csv\u001b[0;34m(filepath_or_buffer, sep, delimiter, header, names, index_col, usecols, squeeze, prefix, mangle_dupe_cols, dtype, engine, converters, true_values, false_values, skipinitialspace, skiprows, skipfooter, nrows, na_values, keep_default_na, na_filter, verbose, skip_blank_lines, parse_dates, infer_datetime_format, keep_date_col, date_parser, dayfirst, cache_dates, iterator, chunksize, compression, thousands, decimal, lineterminator, quotechar, quoting, doublequote, escapechar, comment, encoding, dialect, error_bad_lines, warn_bad_lines, delim_whitespace, low_memory, memory_map, float_precision)\u001b[0m\n\u001b[1;32m    686\u001b[0m     )\n\u001b[1;32m    687\u001b[0m \u001b[0;34m\u001b[0m\u001b[0m\n\u001b[0;32m--> 688\u001b[0;31m     \u001b[0;32mreturn\u001b[0m \u001b[0m_read\u001b[0m\u001b[0;34m(\u001b[0m\u001b[0mfilepath_or_buffer\u001b[0m\u001b[0;34m,\u001b[0m \u001b[0mkwds\u001b[0m\u001b[0;34m)\u001b[0m\u001b[0;34m\u001b[0m\u001b[0;34m\u001b[0m\u001b[0m\n\u001b[0m\u001b[1;32m    689\u001b[0m \u001b[0;34m\u001b[0m\u001b[0m\n\u001b[1;32m    690\u001b[0m \u001b[0;34m\u001b[0m\u001b[0m\n",
            "\u001b[0;32m/usr/local/lib/python3.7/dist-packages/pandas/io/parsers.py\u001b[0m in \u001b[0;36m_read\u001b[0;34m(filepath_or_buffer, kwds)\u001b[0m\n\u001b[1;32m    452\u001b[0m \u001b[0;34m\u001b[0m\u001b[0m\n\u001b[1;32m    453\u001b[0m     \u001b[0;31m# Create the parser.\u001b[0m\u001b[0;34m\u001b[0m\u001b[0;34m\u001b[0m\u001b[0;34m\u001b[0m\u001b[0m\n\u001b[0;32m--> 454\u001b[0;31m     \u001b[0mparser\u001b[0m \u001b[0;34m=\u001b[0m \u001b[0mTextFileReader\u001b[0m\u001b[0;34m(\u001b[0m\u001b[0mfp_or_buf\u001b[0m\u001b[0;34m,\u001b[0m \u001b[0;34m**\u001b[0m\u001b[0mkwds\u001b[0m\u001b[0;34m)\u001b[0m\u001b[0;34m\u001b[0m\u001b[0;34m\u001b[0m\u001b[0m\n\u001b[0m\u001b[1;32m    455\u001b[0m \u001b[0;34m\u001b[0m\u001b[0m\n\u001b[1;32m    456\u001b[0m     \u001b[0;32mif\u001b[0m \u001b[0mchunksize\u001b[0m \u001b[0;32mor\u001b[0m \u001b[0miterator\u001b[0m\u001b[0;34m:\u001b[0m\u001b[0;34m\u001b[0m\u001b[0;34m\u001b[0m\u001b[0m\n",
            "\u001b[0;32m/usr/local/lib/python3.7/dist-packages/pandas/io/parsers.py\u001b[0m in \u001b[0;36m__init__\u001b[0;34m(self, f, engine, **kwds)\u001b[0m\n\u001b[1;32m    946\u001b[0m             \u001b[0mself\u001b[0m\u001b[0;34m.\u001b[0m\u001b[0moptions\u001b[0m\u001b[0;34m[\u001b[0m\u001b[0;34m\"has_index_names\"\u001b[0m\u001b[0;34m]\u001b[0m \u001b[0;34m=\u001b[0m \u001b[0mkwds\u001b[0m\u001b[0;34m[\u001b[0m\u001b[0;34m\"has_index_names\"\u001b[0m\u001b[0;34m]\u001b[0m\u001b[0;34m\u001b[0m\u001b[0;34m\u001b[0m\u001b[0m\n\u001b[1;32m    947\u001b[0m \u001b[0;34m\u001b[0m\u001b[0m\n\u001b[0;32m--> 948\u001b[0;31m         \u001b[0mself\u001b[0m\u001b[0;34m.\u001b[0m\u001b[0m_make_engine\u001b[0m\u001b[0;34m(\u001b[0m\u001b[0mself\u001b[0m\u001b[0;34m.\u001b[0m\u001b[0mengine\u001b[0m\u001b[0;34m)\u001b[0m\u001b[0;34m\u001b[0m\u001b[0;34m\u001b[0m\u001b[0m\n\u001b[0m\u001b[1;32m    949\u001b[0m \u001b[0;34m\u001b[0m\u001b[0m\n\u001b[1;32m    950\u001b[0m     \u001b[0;32mdef\u001b[0m \u001b[0mclose\u001b[0m\u001b[0;34m(\u001b[0m\u001b[0mself\u001b[0m\u001b[0;34m)\u001b[0m\u001b[0;34m:\u001b[0m\u001b[0;34m\u001b[0m\u001b[0;34m\u001b[0m\u001b[0m\n",
            "\u001b[0;32m/usr/local/lib/python3.7/dist-packages/pandas/io/parsers.py\u001b[0m in \u001b[0;36m_make_engine\u001b[0;34m(self, engine)\u001b[0m\n\u001b[1;32m   1178\u001b[0m     \u001b[0;32mdef\u001b[0m \u001b[0m_make_engine\u001b[0m\u001b[0;34m(\u001b[0m\u001b[0mself\u001b[0m\u001b[0;34m,\u001b[0m \u001b[0mengine\u001b[0m\u001b[0;34m=\u001b[0m\u001b[0;34m\"c\"\u001b[0m\u001b[0;34m)\u001b[0m\u001b[0;34m:\u001b[0m\u001b[0;34m\u001b[0m\u001b[0;34m\u001b[0m\u001b[0m\n\u001b[1;32m   1179\u001b[0m         \u001b[0;32mif\u001b[0m \u001b[0mengine\u001b[0m \u001b[0;34m==\u001b[0m \u001b[0;34m\"c\"\u001b[0m\u001b[0;34m:\u001b[0m\u001b[0;34m\u001b[0m\u001b[0;34m\u001b[0m\u001b[0m\n\u001b[0;32m-> 1180\u001b[0;31m             \u001b[0mself\u001b[0m\u001b[0;34m.\u001b[0m\u001b[0m_engine\u001b[0m \u001b[0;34m=\u001b[0m \u001b[0mCParserWrapper\u001b[0m\u001b[0;34m(\u001b[0m\u001b[0mself\u001b[0m\u001b[0;34m.\u001b[0m\u001b[0mf\u001b[0m\u001b[0;34m,\u001b[0m \u001b[0;34m**\u001b[0m\u001b[0mself\u001b[0m\u001b[0;34m.\u001b[0m\u001b[0moptions\u001b[0m\u001b[0;34m)\u001b[0m\u001b[0;34m\u001b[0m\u001b[0;34m\u001b[0m\u001b[0m\n\u001b[0m\u001b[1;32m   1181\u001b[0m         \u001b[0;32melse\u001b[0m\u001b[0;34m:\u001b[0m\u001b[0;34m\u001b[0m\u001b[0;34m\u001b[0m\u001b[0m\n\u001b[1;32m   1182\u001b[0m             \u001b[0;32mif\u001b[0m \u001b[0mengine\u001b[0m \u001b[0;34m==\u001b[0m \u001b[0;34m\"python\"\u001b[0m\u001b[0;34m:\u001b[0m\u001b[0;34m\u001b[0m\u001b[0;34m\u001b[0m\u001b[0m\n",
            "\u001b[0;32m/usr/local/lib/python3.7/dist-packages/pandas/io/parsers.py\u001b[0m in \u001b[0;36m__init__\u001b[0;34m(self, src, **kwds)\u001b[0m\n\u001b[1;32m   2008\u001b[0m         \u001b[0mkwds\u001b[0m\u001b[0;34m[\u001b[0m\u001b[0;34m\"usecols\"\u001b[0m\u001b[0;34m]\u001b[0m \u001b[0;34m=\u001b[0m \u001b[0mself\u001b[0m\u001b[0;34m.\u001b[0m\u001b[0musecols\u001b[0m\u001b[0;34m\u001b[0m\u001b[0;34m\u001b[0m\u001b[0m\n\u001b[1;32m   2009\u001b[0m \u001b[0;34m\u001b[0m\u001b[0m\n\u001b[0;32m-> 2010\u001b[0;31m         \u001b[0mself\u001b[0m\u001b[0;34m.\u001b[0m\u001b[0m_reader\u001b[0m \u001b[0;34m=\u001b[0m \u001b[0mparsers\u001b[0m\u001b[0;34m.\u001b[0m\u001b[0mTextReader\u001b[0m\u001b[0;34m(\u001b[0m\u001b[0msrc\u001b[0m\u001b[0;34m,\u001b[0m \u001b[0;34m**\u001b[0m\u001b[0mkwds\u001b[0m\u001b[0;34m)\u001b[0m\u001b[0;34m\u001b[0m\u001b[0;34m\u001b[0m\u001b[0m\n\u001b[0m\u001b[1;32m   2011\u001b[0m         \u001b[0mself\u001b[0m\u001b[0;34m.\u001b[0m\u001b[0munnamed_cols\u001b[0m \u001b[0;34m=\u001b[0m \u001b[0mself\u001b[0m\u001b[0;34m.\u001b[0m\u001b[0m_reader\u001b[0m\u001b[0;34m.\u001b[0m\u001b[0munnamed_cols\u001b[0m\u001b[0;34m\u001b[0m\u001b[0;34m\u001b[0m\u001b[0m\n\u001b[1;32m   2012\u001b[0m \u001b[0;34m\u001b[0m\u001b[0m\n",
            "\u001b[0;32mpandas/_libs/parsers.pyx\u001b[0m in \u001b[0;36mpandas._libs.parsers.TextReader.__cinit__\u001b[0;34m()\u001b[0m\n",
            "\u001b[0;32mpandas/_libs/parsers.pyx\u001b[0m in \u001b[0;36mpandas._libs.parsers.TextReader._setup_parser_source\u001b[0;34m()\u001b[0m\n",
            "\u001b[0;31mFileNotFoundError\u001b[0m: [Errno 2] No such file or directory: '/train.csv/'"
          ]
        }
      ]
    },
    {
      "cell_type": "code",
      "metadata": {
        "colab": {
          "base_uri": "https://localhost:8080/",
          "height": 501
        },
        "id": "QlH9XI2NkeYx",
        "outputId": "d32f4087-a14c-4c43-fd6c-baf580090851"
      },
      "source": [
        "df.head()"
      ],
      "execution_count": null,
      "outputs": [
        {
          "output_type": "execute_result",
          "data": {
            "text/html": [
              "<div>\n",
              "<style scoped>\n",
              "    .dataframe tbody tr th:only-of-type {\n",
              "        vertical-align: middle;\n",
              "    }\n",
              "\n",
              "    .dataframe tbody tr th {\n",
              "        vertical-align: top;\n",
              "    }\n",
              "\n",
              "    .dataframe thead th {\n",
              "        text-align: right;\n",
              "    }\n",
              "</style>\n",
              "<table border=\"1\" class=\"dataframe\">\n",
              "  <thead>\n",
              "    <tr style=\"text-align: right;\">\n",
              "      <th></th>\n",
              "      <th>Organization Group Code</th>\n",
              "      <th>Job Family Code</th>\n",
              "      <th>Job Code</th>\n",
              "      <th>Year Type</th>\n",
              "      <th>Year</th>\n",
              "      <th>Organization Group</th>\n",
              "      <th>Department Code</th>\n",
              "      <th>Department</th>\n",
              "      <th>Union Code</th>\n",
              "      <th>Union</th>\n",
              "      <th>Job Family</th>\n",
              "      <th>Job</th>\n",
              "      <th>Employee Identifier</th>\n",
              "      <th>Salaries</th>\n",
              "      <th>Overtime</th>\n",
              "      <th>Other Salaries</th>\n",
              "      <th>Total Salary</th>\n",
              "      <th>Retirement</th>\n",
              "      <th>Health and Dental</th>\n",
              "      <th>Other Benefits</th>\n",
              "      <th>Total Benefits</th>\n",
              "      <th>Total Compensation</th>\n",
              "    </tr>\n",
              "  </thead>\n",
              "  <tbody>\n",
              "    <tr>\n",
              "      <th>0</th>\n",
              "      <td>1</td>\n",
              "      <td>1000</td>\n",
              "      <td>1021</td>\n",
              "      <td>Calendar</td>\n",
              "      <td>2013</td>\n",
              "      <td>Public Protection</td>\n",
              "      <td>ADP</td>\n",
              "      <td>ADP Adult Probation</td>\n",
              "      <td>21.0</td>\n",
              "      <td>Prof &amp; Tech Engineers - Miscellaneous, Local 21</td>\n",
              "      <td>Information Systems</td>\n",
              "      <td>IS Administrator 1</td>\n",
              "      <td>37730.0</td>\n",
              "      <td>57534.65</td>\n",
              "      <td>0.0</td>\n",
              "      <td>0.00</td>\n",
              "      <td>57534.65</td>\n",
              "      <td>11253.16</td>\n",
              "      <td>11961.34</td>\n",
              "      <td>4532.63</td>\n",
              "      <td>27747.13</td>\n",
              "      <td>85281.78</td>\n",
              "    </tr>\n",
              "    <tr>\n",
              "      <th>1</th>\n",
              "      <td>1</td>\n",
              "      <td>1000</td>\n",
              "      <td>1023</td>\n",
              "      <td>Calendar</td>\n",
              "      <td>2013</td>\n",
              "      <td>Public Protection</td>\n",
              "      <td>ADP</td>\n",
              "      <td>ADP Adult Probation</td>\n",
              "      <td>21.0</td>\n",
              "      <td>Prof &amp; Tech Engineers - Miscellaneous, Local 21</td>\n",
              "      <td>Information Systems</td>\n",
              "      <td>IS Administrator 3</td>\n",
              "      <td>26574.0</td>\n",
              "      <td>57678.50</td>\n",
              "      <td>0.0</td>\n",
              "      <td>0.00</td>\n",
              "      <td>57678.50</td>\n",
              "      <td>10284.88</td>\n",
              "      <td>7176.80</td>\n",
              "      <td>4755.14</td>\n",
              "      <td>22216.82</td>\n",
              "      <td>79895.32</td>\n",
              "    </tr>\n",
              "    <tr>\n",
              "      <th>2</th>\n",
              "      <td>1</td>\n",
              "      <td>1000</td>\n",
              "      <td>1031</td>\n",
              "      <td>Calendar</td>\n",
              "      <td>2013</td>\n",
              "      <td>Public Protection</td>\n",
              "      <td>ADP</td>\n",
              "      <td>ADP Adult Probation</td>\n",
              "      <td>21.0</td>\n",
              "      <td>Prof &amp; Tech Engineers - Miscellaneous, Local 21</td>\n",
              "      <td>Information Systems</td>\n",
              "      <td>IS Trainer-Assistant</td>\n",
              "      <td>8148.0</td>\n",
              "      <td>63532.93</td>\n",
              "      <td>0.0</td>\n",
              "      <td>0.00</td>\n",
              "      <td>63532.93</td>\n",
              "      <td>12495.83</td>\n",
              "      <td>12918.24</td>\n",
              "      <td>4702.71</td>\n",
              "      <td>30116.78</td>\n",
              "      <td>93649.71</td>\n",
              "    </tr>\n",
              "    <tr>\n",
              "      <th>3</th>\n",
              "      <td>1</td>\n",
              "      <td>1000</td>\n",
              "      <td>1054</td>\n",
              "      <td>Calendar</td>\n",
              "      <td>2013</td>\n",
              "      <td>Public Protection</td>\n",
              "      <td>ADP</td>\n",
              "      <td>ADP Adult Probation</td>\n",
              "      <td>21.0</td>\n",
              "      <td>Prof &amp; Tech Engineers - Miscellaneous, Local 21</td>\n",
              "      <td>Information Systems</td>\n",
              "      <td>IS Business Analyst-Principal</td>\n",
              "      <td>27436.0</td>\n",
              "      <td>101274.51</td>\n",
              "      <td>0.0</td>\n",
              "      <td>-7058.59</td>\n",
              "      <td>94215.92</td>\n",
              "      <td>19644.45</td>\n",
              "      <td>12918.24</td>\n",
              "      <td>7458.76</td>\n",
              "      <td>40021.45</td>\n",
              "      <td>134237.37</td>\n",
              "    </tr>\n",
              "    <tr>\n",
              "      <th>4</th>\n",
              "      <td>1</td>\n",
              "      <td>1000</td>\n",
              "      <td>1062</td>\n",
              "      <td>Calendar</td>\n",
              "      <td>2013</td>\n",
              "      <td>Public Protection</td>\n",
              "      <td>ADP</td>\n",
              "      <td>ADP Adult Probation</td>\n",
              "      <td>21.0</td>\n",
              "      <td>Prof &amp; Tech Engineers - Miscellaneous, Local 21</td>\n",
              "      <td>Information Systems</td>\n",
              "      <td>IS Programmer Analyst</td>\n",
              "      <td>37730.0</td>\n",
              "      <td>5084.00</td>\n",
              "      <td>0.0</td>\n",
              "      <td>0.00</td>\n",
              "      <td>5084.00</td>\n",
              "      <td>1083.90</td>\n",
              "      <td>956.91</td>\n",
              "      <td>387.50</td>\n",
              "      <td>2428.31</td>\n",
              "      <td>7512.31</td>\n",
              "    </tr>\n",
              "  </tbody>\n",
              "</table>\n",
              "</div>"
            ],
            "text/plain": [
              "   Organization Group Code Job Family Code  ... Total Benefits Total Compensation\n",
              "0                        1            1000  ...       27747.13           85281.78\n",
              "1                        1            1000  ...       22216.82           79895.32\n",
              "2                        1            1000  ...       30116.78           93649.71\n",
              "3                        1            1000  ...       40021.45          134237.37\n",
              "4                        1            1000  ...        2428.31            7512.31\n",
              "\n",
              "[5 rows x 22 columns]"
            ]
          },
          "metadata": {
            "tags": []
          },
          "execution_count": 9
        }
      ]
    },
    {
      "cell_type": "code",
      "metadata": {
        "colab": {
          "base_uri": "https://localhost:8080/"
        },
        "id": "HTUNBiFukjsK",
        "outputId": "b69965cd-8eeb-4688-e133-ac49e94c59cd"
      },
      "source": [
        "df.shape"
      ],
      "execution_count": null,
      "outputs": [
        {
          "output_type": "execute_result",
          "data": {
            "text/plain": [
              "(471059, 22)"
            ]
          },
          "metadata": {
            "tags": []
          },
          "execution_count": 10
        }
      ]
    },
    {
      "cell_type": "code",
      "metadata": {
        "colab": {
          "base_uri": "https://localhost:8080/",
          "height": 417
        },
        "id": "I4to2A3Skh49",
        "outputId": "94070b7f-c1ff-48d7-c1c1-b90df2f68067"
      },
      "source": [
        "df.tail()"
      ],
      "execution_count": null,
      "outputs": [
        {
          "output_type": "execute_result",
          "data": {
            "text/html": [
              "<div>\n",
              "<style scoped>\n",
              "    .dataframe tbody tr th:only-of-type {\n",
              "        vertical-align: middle;\n",
              "    }\n",
              "\n",
              "    .dataframe tbody tr th {\n",
              "        vertical-align: top;\n",
              "    }\n",
              "\n",
              "    .dataframe thead th {\n",
              "        text-align: right;\n",
              "    }\n",
              "</style>\n",
              "<table border=\"1\" class=\"dataframe\">\n",
              "  <thead>\n",
              "    <tr style=\"text-align: right;\">\n",
              "      <th></th>\n",
              "      <th>Organization Group Code</th>\n",
              "      <th>Job Family Code</th>\n",
              "      <th>Job Code</th>\n",
              "      <th>Year Type</th>\n",
              "      <th>Year</th>\n",
              "      <th>Organization Group</th>\n",
              "      <th>Department Code</th>\n",
              "      <th>Department</th>\n",
              "      <th>Union Code</th>\n",
              "      <th>Union</th>\n",
              "      <th>Job Family</th>\n",
              "      <th>Job</th>\n",
              "      <th>Employee Identifier</th>\n",
              "      <th>Salaries</th>\n",
              "      <th>Overtime</th>\n",
              "      <th>Other Salaries</th>\n",
              "      <th>Total Salary</th>\n",
              "      <th>Retirement</th>\n",
              "      <th>Health and Dental</th>\n",
              "      <th>Other Benefits</th>\n",
              "      <th>Total Benefits</th>\n",
              "      <th>Total Compensation</th>\n",
              "    </tr>\n",
              "  </thead>\n",
              "  <tbody>\n",
              "    <tr>\n",
              "      <th>471054</th>\n",
              "      <td>1</td>\n",
              "      <td>Q000</td>\n",
              "      <td>Q002</td>\n",
              "      <td>Fiscal</td>\n",
              "      <td>2017</td>\n",
              "      <td>Public Protection</td>\n",
              "      <td>POL</td>\n",
              "      <td>POL Police</td>\n",
              "      <td>911.0</td>\n",
              "      <td>Police Officers' Association</td>\n",
              "      <td>Police Services</td>\n",
              "      <td>Police Officer</td>\n",
              "      <td>41624.0</td>\n",
              "      <td>32249.30</td>\n",
              "      <td>0.00</td>\n",
              "      <td>0.00</td>\n",
              "      <td>32249.30</td>\n",
              "      <td>5724.27</td>\n",
              "      <td>5326.90</td>\n",
              "      <td>2488.38</td>\n",
              "      <td>13539.55</td>\n",
              "      <td>45788.85</td>\n",
              "    </tr>\n",
              "    <tr>\n",
              "      <th>471055</th>\n",
              "      <td>1</td>\n",
              "      <td>Q000</td>\n",
              "      <td>Q002</td>\n",
              "      <td>Fiscal</td>\n",
              "      <td>2017</td>\n",
              "      <td>Public Protection</td>\n",
              "      <td>POL</td>\n",
              "      <td>POL Police</td>\n",
              "      <td>911.0</td>\n",
              "      <td>Police Officers' Association</td>\n",
              "      <td>Police Services</td>\n",
              "      <td>Police Officer</td>\n",
              "      <td>41647.0</td>\n",
              "      <td>35552.01</td>\n",
              "      <td>173.59</td>\n",
              "      <td>724.50</td>\n",
              "      <td>36450.10</td>\n",
              "      <td>6179.84</td>\n",
              "      <td>4219.32</td>\n",
              "      <td>621.85</td>\n",
              "      <td>11021.01</td>\n",
              "      <td>47471.11</td>\n",
              "    </tr>\n",
              "    <tr>\n",
              "      <th>471056</th>\n",
              "      <td>1</td>\n",
              "      <td>Q000</td>\n",
              "      <td>Q002</td>\n",
              "      <td>Fiscal</td>\n",
              "      <td>2017</td>\n",
              "      <td>Public Protection</td>\n",
              "      <td>POL</td>\n",
              "      <td>POL Police</td>\n",
              "      <td>911.0</td>\n",
              "      <td>Police Officers' Association</td>\n",
              "      <td>Police Services</td>\n",
              "      <td>Police Officer</td>\n",
              "      <td>41689.0</td>\n",
              "      <td>106335.73</td>\n",
              "      <td>14465.39</td>\n",
              "      <td>11582.54</td>\n",
              "      <td>132383.66</td>\n",
              "      <td>19385.06</td>\n",
              "      <td>13778.73</td>\n",
              "      <td>2205.89</td>\n",
              "      <td>35369.68</td>\n",
              "      <td>167753.34</td>\n",
              "    </tr>\n",
              "    <tr>\n",
              "      <th>471057</th>\n",
              "      <td>1</td>\n",
              "      <td>Q000</td>\n",
              "      <td>Q002</td>\n",
              "      <td>Fiscal</td>\n",
              "      <td>2017</td>\n",
              "      <td>Public Protection</td>\n",
              "      <td>POL</td>\n",
              "      <td>POL Police</td>\n",
              "      <td>911.0</td>\n",
              "      <td>Police Officers' Association</td>\n",
              "      <td>Police Services</td>\n",
              "      <td>Police Officer</td>\n",
              "      <td>41709.0</td>\n",
              "      <td>20754.50</td>\n",
              "      <td>2.49</td>\n",
              "      <td>0.00</td>\n",
              "      <td>20756.99</td>\n",
              "      <td>3683.94</td>\n",
              "      <td>3428.20</td>\n",
              "      <td>1580.83</td>\n",
              "      <td>8692.97</td>\n",
              "      <td>29449.96</td>\n",
              "    </tr>\n",
              "    <tr>\n",
              "      <th>471058</th>\n",
              "      <td>1</td>\n",
              "      <td>Q000</td>\n",
              "      <td>Q002</td>\n",
              "      <td>Fiscal</td>\n",
              "      <td>2017</td>\n",
              "      <td>Public Protection</td>\n",
              "      <td>POL</td>\n",
              "      <td>POL Police</td>\n",
              "      <td>911.0</td>\n",
              "      <td>Police Officers' Association</td>\n",
              "      <td>NaN</td>\n",
              "      <td>NaN</td>\n",
              "      <td>NaN</td>\n",
              "      <td>NaN</td>\n",
              "      <td>NaN</td>\n",
              "      <td>NaN</td>\n",
              "      <td>NaN</td>\n",
              "      <td>NaN</td>\n",
              "      <td>NaN</td>\n",
              "      <td>NaN</td>\n",
              "      <td>NaN</td>\n",
              "      <td>NaN</td>\n",
              "    </tr>\n",
              "  </tbody>\n",
              "</table>\n",
              "</div>"
            ],
            "text/plain": [
              "        Organization Group Code  ... Total Compensation\n",
              "471054                        1  ...           45788.85\n",
              "471055                        1  ...           47471.11\n",
              "471056                        1  ...          167753.34\n",
              "471057                        1  ...           29449.96\n",
              "471058                        1  ...                NaN\n",
              "\n",
              "[5 rows x 22 columns]"
            ]
          },
          "metadata": {
            "tags": []
          },
          "execution_count": 11
        }
      ]
    },
    {
      "cell_type": "code",
      "metadata": {
        "colab": {
          "base_uri": "https://localhost:8080/",
          "height": 321
        },
        "id": "pzWF1eHLklp3",
        "outputId": "a867cbee-c6f5-42d0-f435-a84ecd89bdcd"
      },
      "source": [
        "df.describe()"
      ],
      "execution_count": null,
      "outputs": [
        {
          "output_type": "execute_result",
          "data": {
            "text/html": [
              "<div>\n",
              "<style scoped>\n",
              "    .dataframe tbody tr th:only-of-type {\n",
              "        vertical-align: middle;\n",
              "    }\n",
              "\n",
              "    .dataframe tbody tr th {\n",
              "        vertical-align: top;\n",
              "    }\n",
              "\n",
              "    .dataframe thead th {\n",
              "        text-align: right;\n",
              "    }\n",
              "</style>\n",
              "<table border=\"1\" class=\"dataframe\">\n",
              "  <thead>\n",
              "    <tr style=\"text-align: right;\">\n",
              "      <th></th>\n",
              "      <th>Organization Group Code</th>\n",
              "      <th>Year</th>\n",
              "      <th>Union Code</th>\n",
              "      <th>Employee Identifier</th>\n",
              "      <th>Salaries</th>\n",
              "      <th>Overtime</th>\n",
              "      <th>Other Salaries</th>\n",
              "      <th>Total Salary</th>\n",
              "      <th>Retirement</th>\n",
              "      <th>Health and Dental</th>\n",
              "      <th>Other Benefits</th>\n",
              "      <th>Total Benefits</th>\n",
              "      <th>Total Compensation</th>\n",
              "    </tr>\n",
              "  </thead>\n",
              "  <tbody>\n",
              "    <tr>\n",
              "      <th>count</th>\n",
              "      <td>471059.000000</td>\n",
              "      <td>471059.000000</td>\n",
              "      <td>470880.000000</td>\n",
              "      <td>4.710580e+05</td>\n",
              "      <td>471058.000000</td>\n",
              "      <td>471058.000000</td>\n",
              "      <td>471058.000000</td>\n",
              "      <td>471058.000000</td>\n",
              "      <td>471058.000000</td>\n",
              "      <td>471058.000000</td>\n",
              "      <td>471058.000000</td>\n",
              "      <td>471058.000000</td>\n",
              "      <td>471058.000000</td>\n",
              "    </tr>\n",
              "    <tr>\n",
              "      <th>mean</th>\n",
              "      <td>2.953152</td>\n",
              "      <td>2015.528560</td>\n",
              "      <td>493.358191</td>\n",
              "      <td>1.062426e+07</td>\n",
              "      <td>67314.482234</td>\n",
              "      <td>5151.594474</td>\n",
              "      <td>3839.397905</td>\n",
              "      <td>76186.211251</td>\n",
              "      <td>13392.089996</td>\n",
              "      <td>9585.740881</td>\n",
              "      <td>4886.406663</td>\n",
              "      <td>27864.237540</td>\n",
              "      <td>104050.448791</td>\n",
              "    </tr>\n",
              "    <tr>\n",
              "      <th>std</th>\n",
              "      <td>1.583309</td>\n",
              "      <td>1.868419</td>\n",
              "      <td>331.894902</td>\n",
              "      <td>1.723967e+07</td>\n",
              "      <td>46679.040029</td>\n",
              "      <td>12537.984124</td>\n",
              "      <td>8140.727365</td>\n",
              "      <td>54654.409619</td>\n",
              "      <td>9945.789743</td>\n",
              "      <td>5447.925796</td>\n",
              "      <td>3795.730745</td>\n",
              "      <td>17432.625556</td>\n",
              "      <td>70778.461860</td>\n",
              "    </tr>\n",
              "    <tr>\n",
              "      <th>min</th>\n",
              "      <td>1.000000</td>\n",
              "      <td>2013.000000</td>\n",
              "      <td>1.000000</td>\n",
              "      <td>0.000000e+00</td>\n",
              "      <td>-68771.780000</td>\n",
              "      <td>-12308.660000</td>\n",
              "      <td>-19131.100000</td>\n",
              "      <td>-68771.780000</td>\n",
              "      <td>-30621.430000</td>\n",
              "      <td>-3831.090000</td>\n",
              "      <td>-10636.500000</td>\n",
              "      <td>-21295.150000</td>\n",
              "      <td>-74082.610000</td>\n",
              "    </tr>\n",
              "    <tr>\n",
              "      <th>25%</th>\n",
              "      <td>2.000000</td>\n",
              "      <td>2014.000000</td>\n",
              "      <td>250.000000</td>\n",
              "      <td>1.967500e+04</td>\n",
              "      <td>27003.822500</td>\n",
              "      <td>0.000000</td>\n",
              "      <td>0.000000</td>\n",
              "      <td>29494.035000</td>\n",
              "      <td>4309.627500</td>\n",
              "      <td>4636.907500</td>\n",
              "      <td>1765.162500</td>\n",
              "      <td>10980.635000</td>\n",
              "      <td>41526.610000</td>\n",
              "    </tr>\n",
              "    <tr>\n",
              "      <th>50%</th>\n",
              "      <td>2.000000</td>\n",
              "      <td>2015.000000</td>\n",
              "      <td>535.000000</td>\n",
              "      <td>3.942150e+04</td>\n",
              "      <td>65854.050000</td>\n",
              "      <td>0.000000</td>\n",
              "      <td>715.530000</td>\n",
              "      <td>72487.455000</td>\n",
              "      <td>13617.305000</td>\n",
              "      <td>12424.500000</td>\n",
              "      <td>4655.915000</td>\n",
              "      <td>31691.905000</td>\n",
              "      <td>104350.745000</td>\n",
              "    </tr>\n",
              "    <tr>\n",
              "      <th>75%</th>\n",
              "      <td>4.000000</td>\n",
              "      <td>2017.000000</td>\n",
              "      <td>790.000000</td>\n",
              "      <td>3.679401e+07</td>\n",
              "      <td>97454.000000</td>\n",
              "      <td>3727.467500</td>\n",
              "      <td>4519.880000</td>\n",
              "      <td>109606.377500</td>\n",
              "      <td>19906.820000</td>\n",
              "      <td>13235.027500</td>\n",
              "      <td>7268.850000</td>\n",
              "      <td>40076.440000</td>\n",
              "      <td>150040.290000</td>\n",
              "    </tr>\n",
              "    <tr>\n",
              "      <th>max</th>\n",
              "      <td>7.000000</td>\n",
              "      <td>2019.000000</td>\n",
              "      <td>990.000000</td>\n",
              "      <td>4.350614e+07</td>\n",
              "      <td>592394.340000</td>\n",
              "      <td>315896.410000</td>\n",
              "      <td>568163.120000</td>\n",
              "      <td>592394.340000</td>\n",
              "      <td>110846.710000</td>\n",
              "      <td>59405.230000</td>\n",
              "      <td>36669.610000</td>\n",
              "      <td>146398.460000</td>\n",
              "      <td>724031.060000</td>\n",
              "    </tr>\n",
              "  </tbody>\n",
              "</table>\n",
              "</div>"
            ],
            "text/plain": [
              "       Organization Group Code  ...  Total Compensation\n",
              "count            471059.000000  ...       471058.000000\n",
              "mean                  2.953152  ...       104050.448791\n",
              "std                   1.583309  ...        70778.461860\n",
              "min                   1.000000  ...       -74082.610000\n",
              "25%                   2.000000  ...        41526.610000\n",
              "50%                   2.000000  ...       104350.745000\n",
              "75%                   4.000000  ...       150040.290000\n",
              "max                   7.000000  ...       724031.060000\n",
              "\n",
              "[8 rows x 13 columns]"
            ]
          },
          "metadata": {
            "tags": []
          },
          "execution_count": 12
        }
      ]
    },
    {
      "cell_type": "code",
      "metadata": {
        "colab": {
          "base_uri": "https://localhost:8080/"
        },
        "id": "mZ1DMFGJkni7",
        "outputId": "2ed42a8c-582b-43f6-80d1-655dba5898a2"
      },
      "source": [
        "df.info()"
      ],
      "execution_count": null,
      "outputs": [
        {
          "output_type": "stream",
          "text": [
            "<class 'pandas.core.frame.DataFrame'>\n",
            "RangeIndex: 471059 entries, 0 to 471058\n",
            "Data columns (total 22 columns):\n",
            " #   Column                   Non-Null Count   Dtype  \n",
            "---  ------                   --------------   -----  \n",
            " 0   Organization Group Code  471059 non-null  int64  \n",
            " 1   Job Family Code          471059 non-null  object \n",
            " 2   Job Code                 471059 non-null  object \n",
            " 3   Year Type                471059 non-null  object \n",
            " 4   Year                     471059 non-null  int64  \n",
            " 5   Organization Group       471059 non-null  object \n",
            " 6   Department Code          471059 non-null  object \n",
            " 7   Department               471059 non-null  object \n",
            " 8   Union Code               470880 non-null  float64\n",
            " 9   Union                    470880 non-null  object \n",
            " 10  Job Family               471058 non-null  object \n",
            " 11  Job                      471057 non-null  object \n",
            " 12  Employee Identifier      471058 non-null  float64\n",
            " 13  Salaries                 471058 non-null  float64\n",
            " 14  Overtime                 471058 non-null  float64\n",
            " 15  Other Salaries           471058 non-null  float64\n",
            " 16  Total Salary             471058 non-null  float64\n",
            " 17  Retirement               471058 non-null  float64\n",
            " 18  Health and Dental        471058 non-null  float64\n",
            " 19  Other Benefits           471058 non-null  float64\n",
            " 20  Total Benefits           471058 non-null  float64\n",
            " 21  Total Compensation       471058 non-null  float64\n",
            "dtypes: float64(11), int64(2), object(9)\n",
            "memory usage: 79.1+ MB\n"
          ],
          "name": "stdout"
        }
      ]
    },
    {
      "cell_type": "code",
      "metadata": {
        "colab": {
          "base_uri": "https://localhost:8080/"
        },
        "id": "q1MxI8T3k1KI",
        "outputId": "1cbdea5a-a6c7-4c3c-d38c-2b8e14436e60"
      },
      "source": [
        "miss_val = df.isna().sum()\n",
        "miss_val"
      ],
      "execution_count": null,
      "outputs": [
        {
          "output_type": "execute_result",
          "data": {
            "text/plain": [
              "Organization Group Code      0\n",
              "Job Family Code              0\n",
              "Job Code                     0\n",
              "Year Type                    0\n",
              "Year                         0\n",
              "Organization Group           0\n",
              "Department Code              0\n",
              "Department                   0\n",
              "Union Code                 179\n",
              "Union                      179\n",
              "Job Family                   1\n",
              "Job                          2\n",
              "Employee Identifier          1\n",
              "Salaries                     1\n",
              "Overtime                     1\n",
              "Other Salaries               1\n",
              "Total Salary                 1\n",
              "Retirement                   1\n",
              "Health and Dental            1\n",
              "Other Benefits               1\n",
              "Total Benefits               1\n",
              "Total Compensation           1\n",
              "dtype: int64"
            ]
          },
          "metadata": {
            "tags": []
          },
          "execution_count": 14
        }
      ]
    },
    {
      "cell_type": "code",
      "metadata": {
        "colab": {
          "base_uri": "https://localhost:8080/"
        },
        "id": "q2PaFqOq7lxz",
        "outputId": "91733939-75f6-42b3-f992-9cb47b4003be"
      },
      "source": [
        "col_name=df.columns\n",
        "for i in col_name:\n",
        "    print(i,'has :',df[i].nunique(),\"Unique values\")"
      ],
      "execution_count": null,
      "outputs": [
        {
          "output_type": "stream",
          "text": [
            "Organization Group Code has : 7 Unique values\n",
            "Job Family Code has : 59 Unique values\n",
            "Job Code has : 1194 Unique values\n",
            "Year Type has : 2 Unique values\n",
            "Year has : 7 Unique values\n",
            "Organization Group has : 7 Unique values\n",
            "Department Code has : 60 Unique values\n",
            "Department has : 107 Unique values\n",
            "Union Code has : 70 Unique values\n",
            "Union has : 128 Unique values\n",
            "Job Family has : 59 Unique values\n",
            "Job has : 1332 Unique values\n",
            "Employee Identifier has : 181838 Unique values\n",
            "Salaries has : 347866 Unique values\n",
            "Overtime has : 184111 Unique values\n",
            "Other Salaries has : 227431 Unique values\n",
            "Total Salary has : 430168 Unique values\n",
            "Retirement has : 320035 Unique values\n",
            "Health and Dental has : 147715 Unique values\n",
            "Other Benefits has : 369476 Unique values\n",
            "Total Benefits has : 436411 Unique values\n",
            "Total Compensation has : 458398 Unique values\n"
          ],
          "name": "stdout"
        }
      ]
    },
    {
      "cell_type": "code",
      "metadata": {
        "id": "77m7qlaslAdo"
      },
      "source": [
        "df['Employee Identifier'].fillna(0.0, inplace=True)\n",
        "df['Salaries'].fillna(0.0, inplace=True)\n",
        "df['Overtime'].fillna(0.0, inplace=True)\n",
        "df['Other Salaries'].fillna(0.0, inplace=True)\n",
        "df['Total Salary'].fillna(0.0, inplace=True)\n",
        "df['Retirement'].fillna(0.0, inplace=True)\n",
        "df['Health and Dental'].fillna(0.0, inplace=True)\n",
        "df['Other Benefits'].fillna(0.0, inplace=True)\n",
        "df['Total Benefits'].fillna(0.0, inplace=True)\n",
        "df['Total Compensation'].fillna(0.0, inplace=True)\n",
        "df['Union Code'].fillna(0.0, inplace=True)\n",
        "df['Union'].fillna(\"unknown\", inplace=True)\n",
        "df['Department Code'].fillna('uuu', inplace=True)\n",
        "df['Department'].fillna('unknown', inplace=True)\n",
        "df['Job'].fillna(\"unknown\", inplace=True)"
      ],
      "execution_count": null,
      "outputs": []
    },
    {
      "cell_type": "code",
      "metadata": {
        "colab": {
          "base_uri": "https://localhost:8080/"
        },
        "id": "6qv70mBtmZaK",
        "outputId": "9ae3ae58-10d1-4700-d3bd-414257a15ed7"
      },
      "source": [
        "df['Organization Group Code'].value_counts()"
      ],
      "execution_count": null,
      "outputs": [
        {
          "output_type": "execute_result",
          "data": {
            "text/plain": [
              "2    147369\n",
              "4    101997\n",
              "1     94543\n",
              "3     42424\n",
              "5     42179\n",
              "6     42156\n",
              "7       391\n",
              "Name: Organization Group Code, dtype: int64"
            ]
          },
          "metadata": {
            "tags": []
          },
          "execution_count": 17
        }
      ]
    },
    {
      "cell_type": "code",
      "metadata": {
        "colab": {
          "base_uri": "https://localhost:8080/"
        },
        "id": "Rd0M72mbmmBw",
        "outputId": "467e7195-7717-4478-ae34-ebc0870de0ba"
      },
      "source": [
        "df['Organization Group Code'].unique()"
      ],
      "execution_count": null,
      "outputs": [
        {
          "output_type": "execute_result",
          "data": {
            "text/plain": [
              "array([1, 2, 3, 4, 5, 6, 7])"
            ]
          },
          "metadata": {
            "tags": []
          },
          "execution_count": 18
        }
      ]
    },
    {
      "cell_type": "code",
      "metadata": {
        "colab": {
          "base_uri": "https://localhost:8080/"
        },
        "id": "92HRSdE5mwNA",
        "outputId": "adc79fa0-4be1-4f64-c8c6-fab84394d775"
      },
      "source": [
        "df['Job Family Code'].value_counts()"
      ],
      "execution_count": null,
      "outputs": [
        {
          "output_type": "execute_result",
          "data": {
            "text/plain": [
              "2300              48389\n",
              "9100              38814\n",
              "Q000              30162\n",
              "7300              27359\n",
              "2900              23843\n",
              "9900              22743\n",
              "1400              20726\n",
              "H000              20574\n",
              "2700              15136\n",
              "0900              14828\n",
              "8200              13851\n",
              "3200              13590\n",
              "5200              13490\n",
              "1800              13406\n",
              "8300              12628\n",
              "1000              11216\n",
              "8100              10933\n",
              "1600               9586\n",
              "2500               9533\n",
              "3600               8495\n",
              "2400               7953\n",
              "1200               6855\n",
              "5300               6186\n",
              "7500               6121\n",
              "SCRT               5323\n",
              "3400               5044\n",
              "9200               4635\n",
              "7200               4542\n",
              "7400               4039\n",
              "2200               3623\n",
              "9700               3405\n",
              "2600               3355\n",
              "0000               2587\n",
              "1900               2577\n",
              "6300               2508\n",
              "8400               2344\n",
              "4200               2114\n",
              "5600               1952\n",
              "1300               1951\n",
              "2800               1942\n",
              "2100               1804\n",
              "1700               1762\n",
              "6200               1513\n",
              "6100               1503\n",
              "3300               1296\n",
              "4300               1159\n",
              "5500                880\n",
              "3500                809\n",
              "5100                480\n",
              "7100                293\n",
              "8600                234\n",
              "4100                200\n",
              "9300                154\n",
              "9500                149\n",
              "1100                111\n",
              "5400                109\n",
              "SFRA                109\n",
              "1500                 96\n",
              "__UNASSIGNED__       40\n",
              "Name: Job Family Code, dtype: int64"
            ]
          },
          "metadata": {
            "tags": []
          },
          "execution_count": 19
        }
      ]
    },
    {
      "cell_type": "code",
      "metadata": {
        "id": "dzbQnezNngSB"
      },
      "source": [
        "df[\"Job Family Code\"].replace(\"SCRT\",\"0000\",inplace=True)\n",
        "df[\"Job Family Code\"].replace(\"H000\",\"0001\",inplace = True)\n",
        "df[\"Job Family Code\"].replace(\"Q000\",\"0002\", inplace=True)\n",
        "df[\"Job Family Code\"].replace(\"SFRA\",\"0003\", inplace=True)\n",
        "df[\"Job Family Code\"].replace(\"__UNASSIGNED__\",\"0004\", inplace=True)"
      ],
      "execution_count": null,
      "outputs": []
    },
    {
      "cell_type": "code",
      "metadata": {
        "colab": {
          "base_uri": "https://localhost:8080/"
        },
        "id": "riqIV_d8mxDZ",
        "outputId": "98751d8f-020e-41df-d434-f878084bc258"
      },
      "source": [
        "df['Job Family Code'].unique()"
      ],
      "execution_count": null,
      "outputs": [
        {
          "output_type": "execute_result",
          "data": {
            "text/plain": [
              "array(['1000', '1200', '1600', '1800', '1400', '0900', '8400', '9700',\n",
              "       '9900', '0000', '8100', '1500', '5200', '8200', '8600', '2500',\n",
              "       '1900', '6200', '2200', '2100', '2300', '0001', '0002', '7100',\n",
              "       '7200', '7300', '2600', '2700', '7500', '8300', '2900', '1300',\n",
              "       '7400', '1700', '3300', '9200', '3400', '2400', '5100', '5300',\n",
              "       '5500', '5600', '6100', '6300', '9300', '3500', '3600', '4300',\n",
              "       '5400', '9100', '4100', '2800', '4200', '1100', '3200', '0003',\n",
              "       '0004', '9500'], dtype=object)"
            ]
          },
          "metadata": {
            "tags": []
          },
          "execution_count": 21
        }
      ]
    },
    {
      "cell_type": "code",
      "metadata": {
        "colab": {
          "base_uri": "https://localhost:8080/"
        },
        "id": "VeaK3tLxt8Lp",
        "outputId": "383d5d5f-27a8-42b3-f1d4-a858f1f7c180"
      },
      "source": [
        "df['Job Code'].unique()"
      ],
      "execution_count": null,
      "outputs": [
        {
          "output_type": "execute_result",
          "data": {
            "text/plain": [
              "array(['1021', '1023', '1031', ..., '3502', '3246', '1367'], dtype=object)"
            ]
          },
          "metadata": {
            "tags": []
          },
          "execution_count": 22
        }
      ]
    },
    {
      "cell_type": "code",
      "metadata": {
        "colab": {
          "base_uri": "https://localhost:8080/"
        },
        "id": "iy4C0HtMpy44",
        "outputId": "0bdfd421-86e6-404a-88eb-604603b558ba"
      },
      "source": [
        "df['Job Code'].unique()"
      ],
      "execution_count": null,
      "outputs": [
        {
          "output_type": "execute_result",
          "data": {
            "text/plain": [
              "array(['1021', '1023', '1031', ..., '3502', '3246', '1367'], dtype=object)"
            ]
          },
          "metadata": {
            "tags": []
          },
          "execution_count": 23
        }
      ]
    },
    {
      "cell_type": "code",
      "metadata": {
        "id": "-6Cmfeugp-FH"
      },
      "source": [
        "df[\"Job Code\"].replace(\"351C\",\"3510\",inplace=True)"
      ],
      "execution_count": null,
      "outputs": []
    },
    {
      "cell_type": "code",
      "metadata": {
        "colab": {
          "base_uri": "https://localhost:8080/"
        },
        "id": "oo248PkgqSFH",
        "outputId": "0f5c6c6d-4216-43a1-c75f-979a0e381c9e"
      },
      "source": [
        "df['Year Type'].unique()"
      ],
      "execution_count": null,
      "outputs": [
        {
          "output_type": "execute_result",
          "data": {
            "text/plain": [
              "array(['Calendar', 'Fiscal'], dtype=object)"
            ]
          },
          "metadata": {
            "tags": []
          },
          "execution_count": 25
        }
      ]
    },
    {
      "cell_type": "code",
      "metadata": {
        "colab": {
          "base_uri": "https://localhost:8080/"
        },
        "id": "qORBPh15qaXQ",
        "outputId": "77c13e58-dc6f-4d48-879f-05abacf7c8e3"
      },
      "source": [
        "df['Year Type'].value_counts()"
      ],
      "execution_count": null,
      "outputs": [
        {
          "output_type": "execute_result",
          "data": {
            "text/plain": [
              "Calendar    298164\n",
              "Fiscal      172895\n",
              "Name: Year Type, dtype: int64"
            ]
          },
          "metadata": {
            "tags": []
          },
          "execution_count": 26
        }
      ]
    },
    {
      "cell_type": "code",
      "metadata": {
        "colab": {
          "base_uri": "https://localhost:8080/"
        },
        "id": "TdmRWxxLtf5o",
        "outputId": "38c51a58-e263-4396-db2e-76ef1e98f039"
      },
      "source": [
        "df['Year'].unique()"
      ],
      "execution_count": null,
      "outputs": [
        {
          "output_type": "execute_result",
          "data": {
            "text/plain": [
              "array([2013, 2014, 2015, 2016, 2017, 2018, 2019])"
            ]
          },
          "metadata": {
            "tags": []
          },
          "execution_count": 27
        }
      ]
    },
    {
      "cell_type": "code",
      "metadata": {
        "colab": {
          "base_uri": "https://localhost:8080/"
        },
        "id": "MXN562rVq8CX",
        "outputId": "aabb83cc-dff2-43e0-abb8-2244e4e5e081"
      },
      "source": [
        "df['Organization Group'].unique()"
      ],
      "execution_count": null,
      "outputs": [
        {
          "output_type": "execute_result",
          "data": {
            "text/plain": [
              "array(['Public Protection', 'Public Works, Transportation & Commerce',\n",
              "       'Human Welfare & Neighborhood Development', 'Community Health',\n",
              "       'Culture & Recreation', 'General Administration & Finance',\n",
              "       'General City Responsibilities'], dtype=object)"
            ]
          },
          "metadata": {
            "tags": []
          },
          "execution_count": 28
        }
      ]
    },
    {
      "cell_type": "code",
      "metadata": {
        "colab": {
          "base_uri": "https://localhost:8080/"
        },
        "id": "oKMTgIoDrFFf",
        "outputId": "b7873146-0934-4b0a-ff71-13beab98ffbc"
      },
      "source": [
        "df['Department Code'].unique()"
      ],
      "execution_count": null,
      "outputs": [
        {
          "output_type": "execute_result",
          "data": {
            "text/plain": [
              "array(['ADP', 'CRT', 'DAT', 'ECD', 'FIR', 'JUV', 'PDR', 'POL', 'SHF',\n",
              "       'AIR', 'CWP', 'DBI', 'DPW', 'ECN', 'HHP', 'MTA', 'PAB', 'PRT',\n",
              "       'PUC', 'WTR', 'CFC', 'CHF', 'CII', 'CSS', 'DSS', 'ENV', 'HRC',\n",
              "       'RNT', 'WOM', 'DPH', 'AAM', 'ART', 'FAM', 'LIB', 'LLB', 'REC',\n",
              "       'SCI', 'WAR', 'ADM', 'ASR', 'BOS', 'CAT', 'CON', 'CPC', 'CSC',\n",
              "       'ETH', 'HRD', 'HSS', 'MYR', 'REG', 'RET', 'TIS', 'TTX', 'UNA',\n",
              "       'CLP', 'HOM', 'DEM', 'DPA', 'BOA', 'HSA'], dtype=object)"
            ]
          },
          "metadata": {
            "tags": []
          },
          "execution_count": 29
        }
      ]
    },
    {
      "cell_type": "code",
      "metadata": {
        "colab": {
          "base_uri": "https://localhost:8080/"
        },
        "id": "BnoBx7gCrPV_",
        "outputId": "1cb44791-5c56-4d11-8d9a-ea605854d63a"
      },
      "source": [
        "df['Department Code'].unique()"
      ],
      "execution_count": null,
      "outputs": [
        {
          "output_type": "execute_result",
          "data": {
            "text/plain": [
              "array(['ADP', 'CRT', 'DAT', 'ECD', 'FIR', 'JUV', 'PDR', 'POL', 'SHF',\n",
              "       'AIR', 'CWP', 'DBI', 'DPW', 'ECN', 'HHP', 'MTA', 'PAB', 'PRT',\n",
              "       'PUC', 'WTR', 'CFC', 'CHF', 'CII', 'CSS', 'DSS', 'ENV', 'HRC',\n",
              "       'RNT', 'WOM', 'DPH', 'AAM', 'ART', 'FAM', 'LIB', 'LLB', 'REC',\n",
              "       'SCI', 'WAR', 'ADM', 'ASR', 'BOS', 'CAT', 'CON', 'CPC', 'CSC',\n",
              "       'ETH', 'HRD', 'HSS', 'MYR', 'REG', 'RET', 'TIS', 'TTX', 'UNA',\n",
              "       'CLP', 'HOM', 'DEM', 'DPA', 'BOA', 'HSA'], dtype=object)"
            ]
          },
          "metadata": {
            "tags": []
          },
          "execution_count": 30
        }
      ]
    },
    {
      "cell_type": "code",
      "metadata": {
        "colab": {
          "base_uri": "https://localhost:8080/"
        },
        "id": "5OLFAKQFrUBx",
        "outputId": "f6d729a0-24c9-464e-83cf-e9ae6bb8bb5b"
      },
      "source": [
        "df['Department'].unique()"
      ],
      "execution_count": null,
      "outputs": [
        {
          "output_type": "execute_result",
          "data": {
            "text/plain": [
              "array(['ADP Adult Probation', 'CRT Superior Court',\n",
              "       'DAT District Attorney', 'DEM Emergency Management',\n",
              "       'FIR Fire Department', 'JUV Juvenile Probation',\n",
              "       'PDR Public Defender', 'POL Police', 'SHF Sheriff',\n",
              "       'AIR Airport Commission', 'WWE Wastewater Enterprise',\n",
              "       'DBI Building Inspection', 'DPW GSA - Public Works',\n",
              "       'ECN Economic & Wrkfrce Dvlpmnt', 'HHP Hetch Hetchy Water & Power',\n",
              "       'MTA Municipal Transprtn Agncy', 'BOA Board Of Appeals - PAB',\n",
              "       'PRT Port', 'PUB Public Utilities Bureaus', 'WTR Water Enterprise',\n",
              "       'CFC Children & Families Commsn', 'CHF Children;Youth & Families',\n",
              "       'CII Commty Invest & Infrstrctr', 'CSS Child Support Services',\n",
              "       'HSA Human Services Agency', 'ENV Environment',\n",
              "       'HRC Human Rights Commission', 'RNT Rent Arbitration Board',\n",
              "       'WOM Status Of Women', 'DPH Public Health', 'AAM Asian Art Museum',\n",
              "       'ART Arts Commission', 'FAM Fine Arts Museum',\n",
              "       'LIB Public Library', 'LLB Law Library',\n",
              "       'REC Recreation & Park Commsn', 'SCI Academy Of Sciences',\n",
              "       'WAR War Memorial', 'ADM Gen Svcs Agency-City Admin',\n",
              "       'ASR Assessor / Recorder', 'BOS Board Of Supervisors',\n",
              "       'CAT City Attorney', 'CON Controller', 'CPC City Planning',\n",
              "       'CSC Civil Service Commission', 'ETH Ethics Commission',\n",
              "       'HRD Human Resources', 'HSS Health Service System', 'MYR Mayor',\n",
              "       'REG Elections', 'RET Retirement System', 'DT GSA - Technology',\n",
              "       'TTX Treasurer/Tax Collector', 'GEN General City / Unallocated',\n",
              "       'HHP CleanPowerSF', 'HOM HOMELESSNESS SERVICES', 'Adult Probation',\n",
              "       'Trial Courts', 'District Attorney',\n",
              "       'Dept of Emergency Management', 'Dept of Police Accountablility',\n",
              "       'Fire Department', 'Juvenile Court', 'Public Defender', 'Police',\n",
              "       'Sheriff', 'Airport Commission', 'Board Of Appeals',\n",
              "       'Building Inspection', 'Department Of Public Works',\n",
              "       'Economic Workforce Development', 'Municipal Transportation Agcy',\n",
              "       'Port', 'Public Utilities Commission',\n",
              "       'Children & Families Commission', 'Children Youth & Families',\n",
              "       'Child Support Services', 'Environment', 'Homeless Services',\n",
              "       'Human Rights Commission', 'Human Services',\n",
              "       'Rent Arbitration Board', 'Dept Status of Women', 'Public Health',\n",
              "       'Asian Art Museum', 'Art Commission', 'Fine Arts Museum',\n",
              "       'Public Library', 'Law Library', 'Recreation And Park Commission',\n",
              "       'Academy Of Sciences', 'War Memorial', 'Administrative Services',\n",
              "       'Assessor', 'Board Of Supervisors', 'City Attorney', 'Controller',\n",
              "       'City Planning', 'Civil Service Commission', 'Ethics Commission',\n",
              "       'Human Resources', 'Health Service System', 'Mayor', 'Registrar',\n",
              "       'Retirement Services', 'Department of Technology',\n",
              "       'Treasurer/Tax Collector'], dtype=object)"
            ]
          },
          "metadata": {
            "tags": []
          },
          "execution_count": 31
        }
      ]
    },
    {
      "cell_type": "code",
      "metadata": {
        "colab": {
          "base_uri": "https://localhost:8080/"
        },
        "id": "7oNk4FIirZk-",
        "outputId": "20c2f8d2-5be4-45da-d375-abb36911228d"
      },
      "source": [
        "df['Union'].unique()"
      ],
      "execution_count": null,
      "outputs": [
        {
          "output_type": "execute_result",
          "data": {
            "text/plain": [
              "array(['Prof & Tech Engineers - Miscellaneous, Local 21',\n",
              "       'Prof & Tech Engineers - Personnel, Local 21',\n",
              "       'Municipal Executive Association - Miscellaneous',\n",
              "       \"Deputy Probation Officers' Association\",\n",
              "       'SEIU - Miscellaneous, Local 1021',\n",
              "       'Operating Engineers - Sup Probation Ofcrs, Local 3',\n",
              "       'Prof & Tech Engineers - Court Employees, Local 21',\n",
              "       'Prof & Tech Engineers - Court Attorneys, Local 21',\n",
              "       'Court Interpreters, Local 39521',\n",
              "       'Court Unrepresented Professionals',\n",
              "       'Court Unrepresented Managers',\n",
              "       'Prof & Tech Engineers - Court Reporters, Local 21',\n",
              "       'Municipal Executive Association - Court',\n",
              "       'SEIU - Court Employees, Local 1021',\n",
              "       'Court Unrepresented Bench Officers',\n",
              "       'Management Unrepresented Employees',\n",
              "       \"Municipal Attorneys' Association\",\n",
              "       \"District Attorney Investigators' Association\",\n",
              "       'Elected Officials', 'Miscellaneous Unrepresented Employees',\n",
              "       'Physicians and Dentists - Spv Physician Specialist',\n",
              "       'Physicians and Dentists - Miscellaneous',\n",
              "       'Members of Boards and Commissions',\n",
              "       'Municipal Executive Association - Fire',\n",
              "       'SEIU - Staff and Per Diem Nurses, Local 1021',\n",
              "       'SEIU - Firefighter Paramedics, Local 1021',\n",
              "       'Firefighters - Miscellaneous, Local 798',\n",
              "       'Firefighters - Chiefs/Fire Boat Workers, Local 798',\n",
              "       \"Police Officers' Association\", 'Stationary Engineers, Local 39',\n",
              "       'SEIU - Health Workers, Local 1021',\n",
              "       'SEIU - Human Services, Local 1021',\n",
              "       'Teamsters - Miscellaneous, Local 856',\n",
              "       'Transportation Workers, Local 200',\n",
              "       'Transport Workers - Auto Svc Workers, Local 250-A',\n",
              "       'Municipal Executive Association - Police',\n",
              "       'Electrical Workers, Local 6',\n",
              "       'Plumbers and Pipefitters, Local 38', 'Laborers, Local 261',\n",
              "       \"Deputy Sheriffs' Association\",\n",
              "       \"Sheriff's Managers and Supervisors Association\",\n",
              "       \"Institutional Police Officers' Association\",\n",
              "       'Operating Engineers - Miscellaneous, Local 3',\n",
              "       'Painters, Local 1176', 'Bricklayers, Local 3',\n",
              "       'Sheet Metal Workers, Local 104',\n",
              "       'Automotive Machinists, Local 1414', 'Teamsters, Local 853',\n",
              "       'Carpenters, Local 22',\n",
              "       'Transport Workers - Miscellaneous, Local 250-A',\n",
              "       \"Building Inspectors' Association - Inspectors\",\n",
              "       \"Building Inspectors' Association - Chiefs\",\n",
              "       'Carpet, Linoleum and Soft Tile Workers, Local 12',\n",
              "       'Hod Carriers, Local 166',\n",
              "       'Transport Workers - Transit Operators, Local 250-A',\n",
              "       'Cement Masons, Local 300',\n",
              "       'Glaziers, Metal, and Glass Workers, Local 718',\n",
              "       'Transport Workers - Fare Inspectors, Local 250-A',\n",
              "       'Management Unrepresented Employees - MTA',\n",
              "       'Pile Drivers, Local 34', 'Roofers and Waterproofers, Local 40',\n",
              "       'Iron Workers, Local 377', 'Port Director',\n",
              "       'Members of Boards and Commissions - No Benefits',\n",
              "       'Executive Contract Employees',\n",
              "       'Teamsters - Supervising Nurses, Local 856',\n",
              "       'Theatrical and Stage Employees, Local 16',\n",
              "       'Law Librarian and Assistant',\n",
              "       'Members of the Board of Supervisors',\n",
              "       'Firefighters Unit 1, Local 798', 'POA', 'Laborers Int, Local 261',\n",
              "       'Municipal Exec Assoc-Misc', 'unknown',\n",
              "       'Prof & Tech Eng, Local 21', 'Municipal Exec Assoc, Misc',\n",
              "       'SEIU, Local 1021, Misc', 'Probation Off Assoc (DPOA)',\n",
              "       'Sup Probation Ofcr, Op Eng 3', 'Court-Local 21 Professional',\n",
              "       'Court Local 21 Staff Attorneys', 'Court-Supr Court Interpreters',\n",
              "       'Court-Unrep Professional', 'Court-Unrep Management',\n",
              "       'Court-Court Reporters', 'Court-MEA',\n",
              "       'SF Courts Commissioner Assoc', 'Utd Pub EmpL790 SEIU-Crt Clrks',\n",
              "       'Court-Judge', 'Municipal Attorneys Assoc',\n",
              "       'SFDA Investigators Assn', 'TWU, Local 200',\n",
              "       'Physician/Dentists 11-AA, UAPD', 'Physician/Dentists 8-CC, UAPD',\n",
              "       'Member, Board Or Commission', 'Municipal Exec Assoc, Fire',\n",
              "       'SEIU, Local 1021, RN', 'SEIU, Local 1021, H-1',\n",
              "       'Firefighters,Local 798, Unit 1', 'Firefighters,Local 798, Unit 2',\n",
              "       'Teamsters, Local 856, Multi', 'Theatrical Stage Emp, Local 16',\n",
              "       'TWU, Local 250-A, AutoServ', 'Municipal Exec Assoc, Police',\n",
              "       'Plumbers, Local 38', \"Deputy Sheriffs' Assoc (DSA)\",\n",
              "       \"Sheriffs' Mgrs and Supv (MSA)\", 'SFIPOA, Op Eng, Local 3',\n",
              "       'Operating Engineers, Local 3', 'SF City Workers United',\n",
              "       'BrickLayers, Local 3', 'Auto Machinist, Local 1414',\n",
              "       'TWU, Local 250-A, Misc', 'Building Inspects - 6331/33',\n",
              "       'Building Inspects - 6332', 'Carpet, Linoleum & Soft Tile',\n",
              "       'Hod Carriers, Local 36', 'Cement Masons, Local 300 (580)',\n",
              "       'Glaziers, Local 718', 'Misc. Unrepresented Employees',\n",
              "       'TWU, Local 250-A, TransitOpr', 'TWU, Local 250-A, TranFare',\n",
              "       'Indv. Employment Contract-MTA', 'Roofers, Local 40',\n",
              "       'Commissioner No Benefits', 'Unrepresented Contract Rte FBP',\n",
              "       'Teamsters, Local 856, Spv RN', 'Member, Board Of Sups',\n",
              "       'Mgt. Unrepresented Employees'], dtype=object)"
            ]
          },
          "metadata": {
            "tags": []
          },
          "execution_count": 32
        }
      ]
    },
    {
      "cell_type": "code",
      "metadata": {
        "colab": {
          "base_uri": "https://localhost:8080/"
        },
        "id": "PdNw2CWQrvof",
        "outputId": "3c7b71a2-a8cc-4889-ab5f-7ba48b2eac6a"
      },
      "source": [
        "df['Union'].unique()"
      ],
      "execution_count": null,
      "outputs": [
        {
          "output_type": "execute_result",
          "data": {
            "text/plain": [
              "array(['Prof & Tech Engineers - Miscellaneous, Local 21',\n",
              "       'Prof & Tech Engineers - Personnel, Local 21',\n",
              "       'Municipal Executive Association - Miscellaneous',\n",
              "       \"Deputy Probation Officers' Association\",\n",
              "       'SEIU - Miscellaneous, Local 1021',\n",
              "       'Operating Engineers - Sup Probation Ofcrs, Local 3',\n",
              "       'Prof & Tech Engineers - Court Employees, Local 21',\n",
              "       'Prof & Tech Engineers - Court Attorneys, Local 21',\n",
              "       'Court Interpreters, Local 39521',\n",
              "       'Court Unrepresented Professionals',\n",
              "       'Court Unrepresented Managers',\n",
              "       'Prof & Tech Engineers - Court Reporters, Local 21',\n",
              "       'Municipal Executive Association - Court',\n",
              "       'SEIU - Court Employees, Local 1021',\n",
              "       'Court Unrepresented Bench Officers',\n",
              "       'Management Unrepresented Employees',\n",
              "       \"Municipal Attorneys' Association\",\n",
              "       \"District Attorney Investigators' Association\",\n",
              "       'Elected Officials', 'Miscellaneous Unrepresented Employees',\n",
              "       'Physicians and Dentists - Spv Physician Specialist',\n",
              "       'Physicians and Dentists - Miscellaneous',\n",
              "       'Members of Boards and Commissions',\n",
              "       'Municipal Executive Association - Fire',\n",
              "       'SEIU - Staff and Per Diem Nurses, Local 1021',\n",
              "       'SEIU - Firefighter Paramedics, Local 1021',\n",
              "       'Firefighters - Miscellaneous, Local 798',\n",
              "       'Firefighters - Chiefs/Fire Boat Workers, Local 798',\n",
              "       \"Police Officers' Association\", 'Stationary Engineers, Local 39',\n",
              "       'SEIU - Health Workers, Local 1021',\n",
              "       'SEIU - Human Services, Local 1021',\n",
              "       'Teamsters - Miscellaneous, Local 856',\n",
              "       'Transportation Workers, Local 200',\n",
              "       'Transport Workers - Auto Svc Workers, Local 250-A',\n",
              "       'Municipal Executive Association - Police',\n",
              "       'Electrical Workers, Local 6',\n",
              "       'Plumbers and Pipefitters, Local 38', 'Laborers, Local 261',\n",
              "       \"Deputy Sheriffs' Association\",\n",
              "       \"Sheriff's Managers and Supervisors Association\",\n",
              "       \"Institutional Police Officers' Association\",\n",
              "       'Operating Engineers - Miscellaneous, Local 3',\n",
              "       'Painters, Local 1176', 'Bricklayers, Local 3',\n",
              "       'Sheet Metal Workers, Local 104',\n",
              "       'Automotive Machinists, Local 1414', 'Teamsters, Local 853',\n",
              "       'Carpenters, Local 22',\n",
              "       'Transport Workers - Miscellaneous, Local 250-A',\n",
              "       \"Building Inspectors' Association - Inspectors\",\n",
              "       \"Building Inspectors' Association - Chiefs\",\n",
              "       'Carpet, Linoleum and Soft Tile Workers, Local 12',\n",
              "       'Hod Carriers, Local 166',\n",
              "       'Transport Workers - Transit Operators, Local 250-A',\n",
              "       'Cement Masons, Local 300',\n",
              "       'Glaziers, Metal, and Glass Workers, Local 718',\n",
              "       'Transport Workers - Fare Inspectors, Local 250-A',\n",
              "       'Management Unrepresented Employees - MTA',\n",
              "       'Pile Drivers, Local 34', 'Roofers and Waterproofers, Local 40',\n",
              "       'Iron Workers, Local 377', 'Port Director',\n",
              "       'Members of Boards and Commissions - No Benefits',\n",
              "       'Executive Contract Employees',\n",
              "       'Teamsters - Supervising Nurses, Local 856',\n",
              "       'Theatrical and Stage Employees, Local 16',\n",
              "       'Law Librarian and Assistant',\n",
              "       'Members of the Board of Supervisors',\n",
              "       'Firefighters Unit 1, Local 798', 'POA', 'Laborers Int, Local 261',\n",
              "       'Municipal Exec Assoc-Misc', 'unknown',\n",
              "       'Prof & Tech Eng, Local 21', 'Municipal Exec Assoc, Misc',\n",
              "       'SEIU, Local 1021, Misc', 'Probation Off Assoc (DPOA)',\n",
              "       'Sup Probation Ofcr, Op Eng 3', 'Court-Local 21 Professional',\n",
              "       'Court Local 21 Staff Attorneys', 'Court-Supr Court Interpreters',\n",
              "       'Court-Unrep Professional', 'Court-Unrep Management',\n",
              "       'Court-Court Reporters', 'Court-MEA',\n",
              "       'SF Courts Commissioner Assoc', 'Utd Pub EmpL790 SEIU-Crt Clrks',\n",
              "       'Court-Judge', 'Municipal Attorneys Assoc',\n",
              "       'SFDA Investigators Assn', 'TWU, Local 200',\n",
              "       'Physician/Dentists 11-AA, UAPD', 'Physician/Dentists 8-CC, UAPD',\n",
              "       'Member, Board Or Commission', 'Municipal Exec Assoc, Fire',\n",
              "       'SEIU, Local 1021, RN', 'SEIU, Local 1021, H-1',\n",
              "       'Firefighters,Local 798, Unit 1', 'Firefighters,Local 798, Unit 2',\n",
              "       'Teamsters, Local 856, Multi', 'Theatrical Stage Emp, Local 16',\n",
              "       'TWU, Local 250-A, AutoServ', 'Municipal Exec Assoc, Police',\n",
              "       'Plumbers, Local 38', \"Deputy Sheriffs' Assoc (DSA)\",\n",
              "       \"Sheriffs' Mgrs and Supv (MSA)\", 'SFIPOA, Op Eng, Local 3',\n",
              "       'Operating Engineers, Local 3', 'SF City Workers United',\n",
              "       'BrickLayers, Local 3', 'Auto Machinist, Local 1414',\n",
              "       'TWU, Local 250-A, Misc', 'Building Inspects - 6331/33',\n",
              "       'Building Inspects - 6332', 'Carpet, Linoleum & Soft Tile',\n",
              "       'Hod Carriers, Local 36', 'Cement Masons, Local 300 (580)',\n",
              "       'Glaziers, Local 718', 'Misc. Unrepresented Employees',\n",
              "       'TWU, Local 250-A, TransitOpr', 'TWU, Local 250-A, TranFare',\n",
              "       'Indv. Employment Contract-MTA', 'Roofers, Local 40',\n",
              "       'Commissioner No Benefits', 'Unrepresented Contract Rte FBP',\n",
              "       'Teamsters, Local 856, Spv RN', 'Member, Board Of Sups',\n",
              "       'Mgt. Unrepresented Employees'], dtype=object)"
            ]
          },
          "metadata": {
            "tags": []
          },
          "execution_count": 33
        }
      ]
    },
    {
      "cell_type": "code",
      "metadata": {
        "colab": {
          "base_uri": "https://localhost:8080/"
        },
        "id": "dg5dXz8vr8E-",
        "outputId": "ff51ab47-188a-4b7c-b53b-2730fc84f847"
      },
      "source": [
        "df['Union Code'].unique()"
      ],
      "execution_count": null,
      "outputs": [
        {
          "output_type": "execute_result",
          "data": {
            "text/plain": [
              "array([ 21.,  22., 351., 651., 790., 965.,  23., 121., 191., 195., 196.,\n",
              "       197., 356., 792., 933.,   2., 311., 419., 556.,   1., 163., 164.,\n",
              "       323., 352., 791., 793., 798., 799., 911.,  39., 250., 535., 856.,\n",
              "       200., 252., 353.,   6.,  38., 261., 498., 499., 969.,   3.,   4.,\n",
              "         7., 104., 130., 216., 236., 251., 930., 929.,  12.,  36., 253.,\n",
              "       580., 718., 254., 302.,  34.,  40., 377., 604., 330., 990., 858.,\n",
              "        16., 220., 257.,   0., 357.])"
            ]
          },
          "metadata": {
            "tags": []
          },
          "execution_count": 34
        }
      ]
    },
    {
      "cell_type": "code",
      "metadata": {
        "colab": {
          "base_uri": "https://localhost:8080/"
        },
        "id": "bPOYu07VsznX",
        "outputId": "62830c01-c33b-4dbe-cf14-6c93227df63a"
      },
      "source": [
        "df['Union Code'].value_counts()"
      ],
      "execution_count": null,
      "outputs": [
        {
          "output_type": "execute_result",
          "data": {
            "text/plain": [
              "790.0    132882\n",
              "21.0      60129\n",
              "791.0     35591\n",
              "911.0     30251\n",
              "253.0     29351\n",
              "          ...  \n",
              "220.0        24\n",
              "969.0        17\n",
              "302.0        11\n",
              "604.0        10\n",
              "357.0         6\n",
              "Name: Union Code, Length: 71, dtype: int64"
            ]
          },
          "metadata": {
            "tags": []
          },
          "execution_count": 35
        }
      ]
    },
    {
      "cell_type": "code",
      "metadata": {
        "colab": {
          "base_uri": "https://localhost:8080/"
        },
        "id": "DBSmuylbzeh2",
        "outputId": "47eaf6cd-0f83-49d0-e699-ece44f32590b"
      },
      "source": [
        "df['Job Family'].unique()"
      ],
      "execution_count": null,
      "outputs": [
        {
          "output_type": "execute_result",
          "data": {
            "text/plain": [
              "array(['Information Systems', 'Personnel',\n",
              "       'Payroll, Billing & Accounting', 'Budget, Admn & Stats Analysis',\n",
              "       'Clerical, Secretarial & Steno', 'Management',\n",
              "       'Probation & Parole', 'Community Development',\n",
              "       'Public Service Aide', 'SF Superior Court', 'Legal & Court',\n",
              "       'Administrative Secretarial', 'Professional Engineering',\n",
              "       'Protection & Apprehension', 'Emergency Services',\n",
              "       'Med Therapy & Auxiliary', 'Purchasing & Storekeeping',\n",
              "       'Public Safety Inspection', 'Medical & Dental',\n",
              "       'Hospital Administration', 'Nursing', 'Fire Services',\n",
              "       'Police Services', 'Administrative-Labor & Trades',\n",
              "       'Supervisory-Labor & Trade', 'Journeyman Trade', 'Dietary & Food',\n",
              "       'Housekeeping & Laundry', 'Semi-Skilled & General Labor',\n",
              "       'Correction & Detention', 'Human Services',\n",
              "       'Pub Relations & Spec Assts', 'Skilled Labor',\n",
              "       'Computer Operatns & Repro Svcs', 'Park & Zoo',\n",
              "       'Airport Operation', 'Agriculture & Horticulture',\n",
              "       'Lab, Pharmacy & Med Techs', 'Administrative-DPW/PUC',\n",
              "       'Sub-Professional Engineering', 'Construction Project Mgmt',\n",
              "       'Energy & Environment', 'Health & Sanitation Inspection',\n",
              "       'Construction Inspection', 'Port Operation',\n",
              "       'Museum & Cultural Affairs', 'Library', 'Revenue',\n",
              "       'Street Transit', 'Property Administration', 'Public Health',\n",
              "       'Appraisal & Taxation', 'Administrative & Mgmt (Unrep)',\n",
              "       'Recreation', 'SF Redevelopment Agency', 'Untitled',\n",
              "       'Emergency Coordination', 'Unassigned', 'MTA Operations', nan],\n",
              "      dtype=object)"
            ]
          },
          "metadata": {
            "tags": []
          },
          "execution_count": 36
        }
      ]
    },
    {
      "cell_type": "code",
      "metadata": {
        "colab": {
          "base_uri": "https://localhost:8080/"
        },
        "id": "VBadre1KztpF",
        "outputId": "e4e85440-a3e0-4165-ca46-4524a8cd922e"
      },
      "source": [
        "df['Job'].unique()"
      ],
      "execution_count": null,
      "outputs": [
        {
          "output_type": "execute_result",
          "data": {
            "text/plain": [
              "array(['IS Administrator 1', 'IS Administrator 3', 'IS Trainer-Assistant',\n",
              "       ..., 'Special Assistant 8', 'Commissioner 16700c, No Pay',\n",
              "       'Assistant Chief Of Police'], dtype=object)"
            ]
          },
          "metadata": {
            "tags": []
          },
          "execution_count": 37
        }
      ]
    },
    {
      "cell_type": "code",
      "metadata": {
        "colab": {
          "base_uri": "https://localhost:8080/"
        },
        "id": "Q9N0uGpAz6q9",
        "outputId": "09213663-edec-4d40-f75a-c251a590068e"
      },
      "source": [
        "df['Employee Identifier'].unique()"
      ],
      "execution_count": null,
      "outputs": [
        {
          "output_type": "execute_result",
          "data": {
            "text/plain": [
              "array([37730., 26574.,  8148., ..., 39880.,  4077., 41709.])"
            ]
          },
          "metadata": {
            "tags": []
          },
          "execution_count": 38
        }
      ]
    },
    {
      "cell_type": "code",
      "metadata": {
        "colab": {
          "base_uri": "https://localhost:8080/",
          "height": 501
        },
        "id": "gKZz-j7lmqVf",
        "outputId": "1e1aadb7-c72d-41a4-aa77-cc74d6779aea"
      },
      "source": [
        "df_num = df.select_dtypes(include = ['object',])\n",
        "df_num.head()"
      ],
      "execution_count": null,
      "outputs": [
        {
          "output_type": "execute_result",
          "data": {
            "text/html": [
              "<div>\n",
              "<style scoped>\n",
              "    .dataframe tbody tr th:only-of-type {\n",
              "        vertical-align: middle;\n",
              "    }\n",
              "\n",
              "    .dataframe tbody tr th {\n",
              "        vertical-align: top;\n",
              "    }\n",
              "\n",
              "    .dataframe thead th {\n",
              "        text-align: right;\n",
              "    }\n",
              "</style>\n",
              "<table border=\"1\" class=\"dataframe\">\n",
              "  <thead>\n",
              "    <tr style=\"text-align: right;\">\n",
              "      <th></th>\n",
              "      <th>Job Family Code</th>\n",
              "      <th>Job Code</th>\n",
              "      <th>Year Type</th>\n",
              "      <th>Organization Group</th>\n",
              "      <th>Department Code</th>\n",
              "      <th>Department</th>\n",
              "      <th>Union</th>\n",
              "      <th>Job Family</th>\n",
              "      <th>Job</th>\n",
              "    </tr>\n",
              "  </thead>\n",
              "  <tbody>\n",
              "    <tr>\n",
              "      <th>0</th>\n",
              "      <td>1000</td>\n",
              "      <td>1021</td>\n",
              "      <td>Calendar</td>\n",
              "      <td>Public Protection</td>\n",
              "      <td>ADP</td>\n",
              "      <td>ADP Adult Probation</td>\n",
              "      <td>Prof &amp; Tech Engineers - Miscellaneous, Local 21</td>\n",
              "      <td>Information Systems</td>\n",
              "      <td>IS Administrator 1</td>\n",
              "    </tr>\n",
              "    <tr>\n",
              "      <th>1</th>\n",
              "      <td>1000</td>\n",
              "      <td>1023</td>\n",
              "      <td>Calendar</td>\n",
              "      <td>Public Protection</td>\n",
              "      <td>ADP</td>\n",
              "      <td>ADP Adult Probation</td>\n",
              "      <td>Prof &amp; Tech Engineers - Miscellaneous, Local 21</td>\n",
              "      <td>Information Systems</td>\n",
              "      <td>IS Administrator 3</td>\n",
              "    </tr>\n",
              "    <tr>\n",
              "      <th>2</th>\n",
              "      <td>1000</td>\n",
              "      <td>1031</td>\n",
              "      <td>Calendar</td>\n",
              "      <td>Public Protection</td>\n",
              "      <td>ADP</td>\n",
              "      <td>ADP Adult Probation</td>\n",
              "      <td>Prof &amp; Tech Engineers - Miscellaneous, Local 21</td>\n",
              "      <td>Information Systems</td>\n",
              "      <td>IS Trainer-Assistant</td>\n",
              "    </tr>\n",
              "    <tr>\n",
              "      <th>3</th>\n",
              "      <td>1000</td>\n",
              "      <td>1054</td>\n",
              "      <td>Calendar</td>\n",
              "      <td>Public Protection</td>\n",
              "      <td>ADP</td>\n",
              "      <td>ADP Adult Probation</td>\n",
              "      <td>Prof &amp; Tech Engineers - Miscellaneous, Local 21</td>\n",
              "      <td>Information Systems</td>\n",
              "      <td>IS Business Analyst-Principal</td>\n",
              "    </tr>\n",
              "    <tr>\n",
              "      <th>4</th>\n",
              "      <td>1000</td>\n",
              "      <td>1062</td>\n",
              "      <td>Calendar</td>\n",
              "      <td>Public Protection</td>\n",
              "      <td>ADP</td>\n",
              "      <td>ADP Adult Probation</td>\n",
              "      <td>Prof &amp; Tech Engineers - Miscellaneous, Local 21</td>\n",
              "      <td>Information Systems</td>\n",
              "      <td>IS Programmer Analyst</td>\n",
              "    </tr>\n",
              "  </tbody>\n",
              "</table>\n",
              "</div>"
            ],
            "text/plain": [
              "  Job Family Code Job Code  ...           Job Family                            Job\n",
              "0            1000     1021  ...  Information Systems             IS Administrator 1\n",
              "1            1000     1023  ...  Information Systems             IS Administrator 3\n",
              "2            1000     1031  ...  Information Systems           IS Trainer-Assistant\n",
              "3            1000     1054  ...  Information Systems  IS Business Analyst-Principal\n",
              "4            1000     1062  ...  Information Systems          IS Programmer Analyst\n",
              "\n",
              "[5 rows x 9 columns]"
            ]
          },
          "metadata": {
            "tags": []
          },
          "execution_count": 39
        }
      ]
    },
    {
      "cell_type": "code",
      "metadata": {
        "id": "0755OJG9mnuM",
        "colab": {
          "base_uri": "https://localhost:8080/",
          "height": 473
        },
        "outputId": "5b162942-8d30-4be6-9dfd-053f574991d1"
      },
      "source": [
        "from sklearn import preprocessing\n",
        "le = preprocessing.LabelEncoder()\n",
        "df['Job Family Code1']=le.fit_transform(df['Job Family Code'])\n",
        "df['Job Code1']=le.fit_transform(df['Job Code'])\n",
        "df['Year Type1']=le.fit_transform(df['Year Type'])\n",
        "df['Organization Group1']=le.fit_transform(df['Organization Group'])\n",
        "df['Department Code1']=le.fit_transform(df['Department Code'])\n",
        "df['Department1']=le.fit_transform(df['Department'])\n",
        "df['Union1']=le.fit_transform(df['Union'])\n",
        "df['Job Family1']=le.fit_transform(df['Job Family'])\n",
        "df['Job1']=le.fit_transform(df['Job'])"
      ],
      "execution_count": null,
      "outputs": [
        {
          "output_type": "error",
          "ename": "TypeError",
          "evalue": "ignored",
          "traceback": [
            "\u001b[0;31m---------------------------------------------------------------------------\u001b[0m",
            "\u001b[0;31mTypeError\u001b[0m                                 Traceback (most recent call last)",
            "\u001b[0;32m/usr/local/lib/python3.7/dist-packages/sklearn/preprocessing/_label.py\u001b[0m in \u001b[0;36m_encode\u001b[0;34m(values, uniques, encode, check_unknown)\u001b[0m\n\u001b[1;32m    111\u001b[0m         \u001b[0;32mtry\u001b[0m\u001b[0;34m:\u001b[0m\u001b[0;34m\u001b[0m\u001b[0;34m\u001b[0m\u001b[0m\n\u001b[0;32m--> 112\u001b[0;31m             \u001b[0mres\u001b[0m \u001b[0;34m=\u001b[0m \u001b[0m_encode_python\u001b[0m\u001b[0;34m(\u001b[0m\u001b[0mvalues\u001b[0m\u001b[0;34m,\u001b[0m \u001b[0muniques\u001b[0m\u001b[0;34m,\u001b[0m \u001b[0mencode\u001b[0m\u001b[0;34m)\u001b[0m\u001b[0;34m\u001b[0m\u001b[0;34m\u001b[0m\u001b[0m\n\u001b[0m\u001b[1;32m    113\u001b[0m         \u001b[0;32mexcept\u001b[0m \u001b[0mTypeError\u001b[0m\u001b[0;34m:\u001b[0m\u001b[0;34m\u001b[0m\u001b[0;34m\u001b[0m\u001b[0m\n",
            "\u001b[0;32m/usr/local/lib/python3.7/dist-packages/sklearn/preprocessing/_label.py\u001b[0m in \u001b[0;36m_encode_python\u001b[0;34m(values, uniques, encode)\u001b[0m\n\u001b[1;32m     59\u001b[0m     \u001b[0;32mif\u001b[0m \u001b[0muniques\u001b[0m \u001b[0;32mis\u001b[0m \u001b[0;32mNone\u001b[0m\u001b[0;34m:\u001b[0m\u001b[0;34m\u001b[0m\u001b[0;34m\u001b[0m\u001b[0m\n\u001b[0;32m---> 60\u001b[0;31m         \u001b[0muniques\u001b[0m \u001b[0;34m=\u001b[0m \u001b[0msorted\u001b[0m\u001b[0;34m(\u001b[0m\u001b[0mset\u001b[0m\u001b[0;34m(\u001b[0m\u001b[0mvalues\u001b[0m\u001b[0;34m)\u001b[0m\u001b[0;34m)\u001b[0m\u001b[0;34m\u001b[0m\u001b[0;34m\u001b[0m\u001b[0m\n\u001b[0m\u001b[1;32m     61\u001b[0m         \u001b[0muniques\u001b[0m \u001b[0;34m=\u001b[0m \u001b[0mnp\u001b[0m\u001b[0;34m.\u001b[0m\u001b[0marray\u001b[0m\u001b[0;34m(\u001b[0m\u001b[0muniques\u001b[0m\u001b[0;34m,\u001b[0m \u001b[0mdtype\u001b[0m\u001b[0;34m=\u001b[0m\u001b[0mvalues\u001b[0m\u001b[0;34m.\u001b[0m\u001b[0mdtype\u001b[0m\u001b[0;34m)\u001b[0m\u001b[0;34m\u001b[0m\u001b[0;34m\u001b[0m\u001b[0m\n",
            "\u001b[0;31mTypeError\u001b[0m: '<' not supported between instances of 'str' and 'float'",
            "\nDuring handling of the above exception, another exception occurred:\n",
            "\u001b[0;31mTypeError\u001b[0m                                 Traceback (most recent call last)",
            "\u001b[0;32m<ipython-input-40-d4f638b9259d>\u001b[0m in \u001b[0;36m<module>\u001b[0;34m()\u001b[0m\n\u001b[1;32m      8\u001b[0m \u001b[0mdf\u001b[0m\u001b[0;34m[\u001b[0m\u001b[0;34m'Department1'\u001b[0m\u001b[0;34m]\u001b[0m\u001b[0;34m=\u001b[0m\u001b[0mle\u001b[0m\u001b[0;34m.\u001b[0m\u001b[0mfit_transform\u001b[0m\u001b[0;34m(\u001b[0m\u001b[0mdf\u001b[0m\u001b[0;34m[\u001b[0m\u001b[0;34m'Department'\u001b[0m\u001b[0;34m]\u001b[0m\u001b[0;34m)\u001b[0m\u001b[0;34m\u001b[0m\u001b[0;34m\u001b[0m\u001b[0m\n\u001b[1;32m      9\u001b[0m \u001b[0mdf\u001b[0m\u001b[0;34m[\u001b[0m\u001b[0;34m'Union1'\u001b[0m\u001b[0;34m]\u001b[0m\u001b[0;34m=\u001b[0m\u001b[0mle\u001b[0m\u001b[0;34m.\u001b[0m\u001b[0mfit_transform\u001b[0m\u001b[0;34m(\u001b[0m\u001b[0mdf\u001b[0m\u001b[0;34m[\u001b[0m\u001b[0;34m'Union'\u001b[0m\u001b[0;34m]\u001b[0m\u001b[0;34m)\u001b[0m\u001b[0;34m\u001b[0m\u001b[0;34m\u001b[0m\u001b[0m\n\u001b[0;32m---> 10\u001b[0;31m \u001b[0mdf\u001b[0m\u001b[0;34m[\u001b[0m\u001b[0;34m'Job Family1'\u001b[0m\u001b[0;34m]\u001b[0m\u001b[0;34m=\u001b[0m\u001b[0mle\u001b[0m\u001b[0;34m.\u001b[0m\u001b[0mfit_transform\u001b[0m\u001b[0;34m(\u001b[0m\u001b[0mdf\u001b[0m\u001b[0;34m[\u001b[0m\u001b[0;34m'Job Family'\u001b[0m\u001b[0;34m]\u001b[0m\u001b[0;34m)\u001b[0m\u001b[0;34m\u001b[0m\u001b[0;34m\u001b[0m\u001b[0m\n\u001b[0m\u001b[1;32m     11\u001b[0m \u001b[0mdf\u001b[0m\u001b[0;34m[\u001b[0m\u001b[0;34m'Job1'\u001b[0m\u001b[0;34m]\u001b[0m\u001b[0;34m=\u001b[0m\u001b[0mle\u001b[0m\u001b[0;34m.\u001b[0m\u001b[0mfit_transform\u001b[0m\u001b[0;34m(\u001b[0m\u001b[0mdf\u001b[0m\u001b[0;34m[\u001b[0m\u001b[0;34m'Job'\u001b[0m\u001b[0;34m]\u001b[0m\u001b[0;34m)\u001b[0m\u001b[0;34m\u001b[0m\u001b[0;34m\u001b[0m\u001b[0m\n",
            "\u001b[0;32m/usr/local/lib/python3.7/dist-packages/sklearn/preprocessing/_label.py\u001b[0m in \u001b[0;36mfit_transform\u001b[0;34m(self, y)\u001b[0m\n\u001b[1;32m    250\u001b[0m         \"\"\"\n\u001b[1;32m    251\u001b[0m         \u001b[0my\u001b[0m \u001b[0;34m=\u001b[0m \u001b[0mcolumn_or_1d\u001b[0m\u001b[0;34m(\u001b[0m\u001b[0my\u001b[0m\u001b[0;34m,\u001b[0m \u001b[0mwarn\u001b[0m\u001b[0;34m=\u001b[0m\u001b[0;32mTrue\u001b[0m\u001b[0;34m)\u001b[0m\u001b[0;34m\u001b[0m\u001b[0;34m\u001b[0m\u001b[0m\n\u001b[0;32m--> 252\u001b[0;31m         \u001b[0mself\u001b[0m\u001b[0;34m.\u001b[0m\u001b[0mclasses_\u001b[0m\u001b[0;34m,\u001b[0m \u001b[0my\u001b[0m \u001b[0;34m=\u001b[0m \u001b[0m_encode\u001b[0m\u001b[0;34m(\u001b[0m\u001b[0my\u001b[0m\u001b[0;34m,\u001b[0m \u001b[0mencode\u001b[0m\u001b[0;34m=\u001b[0m\u001b[0;32mTrue\u001b[0m\u001b[0;34m)\u001b[0m\u001b[0;34m\u001b[0m\u001b[0;34m\u001b[0m\u001b[0m\n\u001b[0m\u001b[1;32m    253\u001b[0m         \u001b[0;32mreturn\u001b[0m \u001b[0my\u001b[0m\u001b[0;34m\u001b[0m\u001b[0;34m\u001b[0m\u001b[0m\n\u001b[1;32m    254\u001b[0m \u001b[0;34m\u001b[0m\u001b[0m\n",
            "\u001b[0;32m/usr/local/lib/python3.7/dist-packages/sklearn/preprocessing/_label.py\u001b[0m in \u001b[0;36m_encode\u001b[0;34m(values, uniques, encode, check_unknown)\u001b[0m\n\u001b[1;32m    112\u001b[0m             \u001b[0mres\u001b[0m \u001b[0;34m=\u001b[0m \u001b[0m_encode_python\u001b[0m\u001b[0;34m(\u001b[0m\u001b[0mvalues\u001b[0m\u001b[0;34m,\u001b[0m \u001b[0muniques\u001b[0m\u001b[0;34m,\u001b[0m \u001b[0mencode\u001b[0m\u001b[0;34m)\u001b[0m\u001b[0;34m\u001b[0m\u001b[0;34m\u001b[0m\u001b[0m\n\u001b[1;32m    113\u001b[0m         \u001b[0;32mexcept\u001b[0m \u001b[0mTypeError\u001b[0m\u001b[0;34m:\u001b[0m\u001b[0;34m\u001b[0m\u001b[0;34m\u001b[0m\u001b[0m\n\u001b[0;32m--> 114\u001b[0;31m             \u001b[0;32mraise\u001b[0m \u001b[0mTypeError\u001b[0m\u001b[0;34m(\u001b[0m\u001b[0;34m\"argument must be a string or number\"\u001b[0m\u001b[0;34m)\u001b[0m\u001b[0;34m\u001b[0m\u001b[0;34m\u001b[0m\u001b[0m\n\u001b[0m\u001b[1;32m    115\u001b[0m         \u001b[0;32mreturn\u001b[0m \u001b[0mres\u001b[0m\u001b[0;34m\u001b[0m\u001b[0;34m\u001b[0m\u001b[0m\n\u001b[1;32m    116\u001b[0m     \u001b[0;32melse\u001b[0m\u001b[0;34m:\u001b[0m\u001b[0;34m\u001b[0m\u001b[0;34m\u001b[0m\u001b[0m\n",
            "\u001b[0;31mTypeError\u001b[0m: argument must be a string or number"
          ]
        }
      ]
    },
    {
      "cell_type": "code",
      "metadata": {
        "id": "goamaQEgojgb"
      },
      "source": [
        "df.drop(['Job Family Code'],axis=1,inplace=True)\n",
        "df.drop(['Job Code'],axis=1,inplace=True)\n",
        "df.drop(['Year Type'],axis=1,inplace=True)\n",
        "df.drop(['Organization Group'],axis=1,inplace=True)\n",
        "df.drop(['Department Code'],axis=1,inplace=True)\n",
        "df.drop(['Department'],axis=1,inplace=True)\n",
        "df.drop(['Union'],axis=1,inplace=True)\n",
        "df.drop(['Job Family'],axis=1,inplace=True)\n",
        "df.drop(['Job'],axis=1,inplace=True)"
      ],
      "execution_count": null,
      "outputs": []
    },
    {
      "cell_type": "code",
      "metadata": {
        "id": "h4rr80qUoa_M"
      },
      "source": [
        "df.head()"
      ],
      "execution_count": null,
      "outputs": []
    },
    {
      "cell_type": "code",
      "metadata": {
        "id": "7X_Zz6796jl2"
      },
      "source": [
        "sns.distplot(df['Total Benefits'])\n",
        "plt.show()"
      ],
      "execution_count": null,
      "outputs": []
    },
    {
      "cell_type": "code",
      "metadata": {
        "id": "_pEZOJUwp_Hr"
      },
      "source": [
        "sns.distplot(df['Total Compensation'])\n",
        "plt.show()"
      ],
      "execution_count": null,
      "outputs": []
    },
    {
      "cell_type": "code",
      "metadata": {
        "id": "RorMJ_4i62Tn"
      },
      "source": [
        "print(\"Skewness: %f\" % df['Total Compensation'].skew())\n",
        "print(\"Kurtosis: %f\" % df['Total Compensation'].kurt())"
      ],
      "execution_count": null,
      "outputs": []
    },
    {
      "cell_type": "code",
      "metadata": {
        "id": "lRdrQLHkqyhB"
      },
      "source": [
        "from sklearn.cluster import KMeans"
      ],
      "execution_count": null,
      "outputs": []
    },
    {
      "cell_type": "code",
      "metadata": {
        "id": "lzKocRjbq01z"
      },
      "source": [
        "kmeans=KMeans(n_clusters=3)"
      ],
      "execution_count": null,
      "outputs": []
    },
    {
      "cell_type": "code",
      "metadata": {
        "id": "b3l3fVPcq3bx"
      },
      "source": [
        "df.columns"
      ],
      "execution_count": null,
      "outputs": []
    },
    {
      "cell_type": "code",
      "metadata": {
        "id": "8PBN-dzJ0CeQ"
      },
      "source": [
        "X = df.drop(['Organization Group Code', 'Union Code', 'Employee Identifier',\n",
        "       'Salaries', 'Overtime', 'Other Salaries', 'Retirement',\n",
        "       'Health and Dental', 'Other Benefits', 'Total Benefits',\n",
        "       'Job Family Code1', 'Job Code1', 'Year Type1',\n",
        "       'Organization Group1', 'Department Code1', 'Department1', 'Union1',\n",
        "       'Job Family1', 'Job1'], axis=1)\n",
        "display(X)\n",
        "      \n",
        "\n"
      ],
      "execution_count": null,
      "outputs": []
    },
    {
      "cell_type": "code",
      "metadata": {
        "id": "_4GNjruIq9dT"
      },
      "source": [
        "kmeans.fit(X)"
      ],
      "execution_count": null,
      "outputs": []
    },
    {
      "cell_type": "code",
      "metadata": {
        "id": "WeIh2Mrjt-_Y"
      },
      "source": [
        "print(kmeans.cluster_centers_)"
      ],
      "execution_count": null,
      "outputs": []
    },
    {
      "cell_type": "code",
      "metadata": {
        "id": "olT51oGeuCNG"
      },
      "source": [
        "y=kmeans.labels_\n",
        "print(y)"
      ],
      "execution_count": null,
      "outputs": []
    },
    {
      "cell_type": "code",
      "metadata": {
        "id": "x5HC5wwwuGjX"
      },
      "source": [
        "sns.countplot(x=kmeans.labels_, palette='Oranges')\n",
        "plt.show()"
      ],
      "execution_count": null,
      "outputs": []
    },
    {
      "cell_type": "code",
      "metadata": {
        "id": "CsesFcq43H9M"
      },
      "source": [
        "plt.scatter(df.iloc[:,0].values,df.iloc[:,3].values, c=kmeans.labels_, cmap=\"rainbow\")\n",
        "plt.show()"
      ],
      "execution_count": null,
      "outputs": []
    },
    {
      "cell_type": "code",
      "metadata": {
        "id": "hT0DrklLuiTO"
      },
      "source": [
        "centers = np.array(kmeans.cluster_centers_)\n",
        "plt.scatter(centers[:,0], centers[:,1], marker=\"x\", color='k')"
      ],
      "execution_count": null,
      "outputs": []
    },
    {
      "cell_type": "code",
      "metadata": {
        "id": "zdXfnvXW38cM"
      },
      "source": [
        "plt.scatter(df.iloc[:,0].values,df.iloc[:,3].values, c=kmeans.labels_, cmap=\"rainbow\")\n",
        "centers = np.array(kmeans.cluster_centers_)\n",
        "plt.scatter(centers[:,0], centers[:,1], marker=\"x\", color='k')\n",
        "plt.show()"
      ],
      "execution_count": null,
      "outputs": []
    },
    {
      "cell_type": "code",
      "metadata": {
        "id": "5PS0eJ1I5jbA"
      },
      "source": [
        "from scipy.spatial.distance import cdist, pdist\n",
        "from sklearn.cluster import KMeans"
      ],
      "execution_count": null,
      "outputs": []
    },
    {
      "cell_type": "code",
      "metadata": {
        "id": "8AIufrYl5mTf"
      },
      "source": [
        "#K = range(1,10)\n",
        "#X = df.drop(['Organization Group Code', 'Union Code', 'Employee Identifier',\n",
        "    #   'Salaries', 'Overtime', 'Other Salaries', 'Retirement',\n",
        "     #  'Health and Dental', 'Other Benefits', 'Total Benefits',\n",
        "      # 'Job Family Code1', 'Job Code1', 'Year Type1',\n",
        "       #'Organization Group1', 'Department Code1', 'Department1', 'Union1',\n",
        "       #'Job Family1', 'Job1'], axis=1)\n",
        "#KM = [KMeans(n_clusters=k,verbose=1).fit(X) for k in K]\n",
        "#centroids = [k.cluster_centers_ for k in KM]\n",
        "#D_k = [cdist(X, cent, 'euclidean') for cent in centroids]\n",
        "#cIdx = [np.argmin(D,axis=1) for D in D_k]\n",
        "#dist = [np.min(D,axis=1) for D in D_k]\n",
        "#avgWithinSS = [sum(d)/X.shape[0] for d in dist]"
      ],
      "execution_count": null,
      "outputs": []
    },
    {
      "cell_type": "code",
      "metadata": {
        "id": "FvLoTElh50XP"
      },
      "source": [
        "#Total with-in sum of square\n",
        "#wcss = [sum(d**2) for d in dist]\n",
        "#tss = sum(pdist(X)**2)/X.shape[0]\n",
        "#3bss = tss-wcss\n",
        "# varExplained = bss/tss*100"
      ],
      "execution_count": null,
      "outputs": []
    },
    {
      "cell_type": "code",
      "metadata": {
        "id": "jMP6jlo57HKo"
      },
      "source": [
        "sse = {}\n",
        "for k in range(1, 10):\n",
        "    kmeans = KMeans(n_clusters=k, max_iter=1000).fit(X)\n",
        "    sse[k] = kmeans.inertia_ # Inertia: Sum of distances of samples to their closest cluster center\n",
        "plt.figure()\n",
        "plt.plot(list(sse.keys()), list(sse.values()))\n",
        "plt.xlabel(\"Number of cluster\")\n",
        "plt.ylabel(\"SSE\")\n",
        "plt.show()"
      ],
      "execution_count": null,
      "outputs": []
    },
    {
      "cell_type": "code",
      "metadata": {
        "id": "duhOnbO58whq"
      },
      "source": [
        "import scipy\n",
        "from scipy.cluster.hierarchy import dendrogram,linkage\n",
        "from scipy.cluster.hierarchy import fcluster\n",
        "from scipy.cluster.hierarchy import cophenet\n",
        "from scipy.spatial.distance import pdist"
      ],
      "execution_count": null,
      "outputs": []
    },
    {
      "cell_type": "code",
      "metadata": {
        "id": "3Yw91yEQ81_f"
      },
      "source": [
        "from pylab import rcParams\n",
        "from sklearn.cluster import AgglomerativeClustering\n",
        "import sklearn.metrics as sm"
      ],
      "execution_count": null,
      "outputs": []
    },
    {
      "cell_type": "code",
      "metadata": {
        "id": "ID3dYz_O9axX"
      },
      "source": [
        "plt.style.available"
      ],
      "execution_count": null,
      "outputs": []
    },
    {
      "cell_type": "code",
      "metadata": {
        "id": "unyeb9Mf9jXG"
      },
      "source": [
        "plt.style.use('seaborn-whitegrid')"
      ],
      "execution_count": null,
      "outputs": []
    },
    {
      "cell_type": "code",
      "metadata": {
        "id": "mB-u8VfGN8B2"
      },
      "source": [
        "df.head()"
      ],
      "execution_count": null,
      "outputs": []
    },
    {
      "cell_type": "code",
      "metadata": {
        "id": "AEj5bxiXNsN-"
      },
      "source": [
        "plt.figure(figsize=(15,10))\n",
        "Z=linkage(df.drop(['Total Compensation'],axis=1),method='complete')\n",
        "print(\"Z-Shape:\",Z.shape)\n",
        "plt.title(\"COMPLETE\",size=30)\n",
        "dendrogram(Z,orientation='top',truncate_mode='lastp',p=12,get_leaves=False,leaf_rotation=45,leaf_font_size=15,show_contracted=True,)\n",
        "plt.xlabel(\"Cluster Size\",fontsize=30)\n",
        "plt.ylabel(\"Distances\",fontsize=30)\n",
        "plt.show()"
      ],
      "execution_count": null,
      "outputs": []
    },
    {
      "cell_type": "code",
      "metadata": {
        "id": "t5IE-38HOOk-"
      },
      "source": [
        "plt.figure(figsize=(15,10))\n",
        "Z=linkage(df.drop(['Total Compensation'],axis=1),method='weighted')\n",
        "print(\"Z-Shape:\",Z.shape)\n",
        "plt.title(\"Weighted\",loc='center',size=30)\n",
        "dendrogram(Z,orientation='top',truncate_mode='lastp',p=12,get_leaves=False,leaf_rotation=45,leaf_font_size=15,show_contracted=True,)\n",
        "plt.xlabel(\"Cluster Size\",fontsize=30)\n",
        "plt.ylabel(\"Distances\",fontsize=30)\n",
        "plt.show()"
      ],
      "execution_count": null,
      "outputs": []
    }
  ]
}